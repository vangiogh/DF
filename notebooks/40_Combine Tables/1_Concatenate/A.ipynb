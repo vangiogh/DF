{
 "cells": [
  {
   "attachments": {},
   "cell_type": "markdown",
   "id": "60e38c96",
   "metadata": {
    "papermill": {
     "duration": 0.004281,
     "end_time": "2024-04-10T10:57:45.543581",
     "exception": false,
     "start_time": "2024-04-10T10:57:45.539300",
     "status": "completed"
    },
    "tags": []
   },
   "source": [
    "## Concatenate DataFrames"
   ]
  },
  {
   "attachments": {},
   "cell_type": "markdown",
   "id": "4af4effa",
   "metadata": {
    "papermill": {
     "duration": 0.004759,
     "end_time": "2024-04-10T10:57:45.552108",
     "exception": false,
     "start_time": "2024-04-10T10:57:45.547349",
     "status": "completed"
    },
    "tags": []
   },
   "source": [
    "## Load data files\n",
    "\n",
    "They must be in a dictionary with a key name to access each DataFrame."
   ]
  },
  {
   "cell_type": "code",
   "execution_count": null,
   "id": "bf6021be",
   "metadata": {
    "execution": {
     "iopub.execute_input": "2024-04-10T10:57:45.562202Z",
     "iopub.status.busy": "2024-04-10T10:57:45.561634Z",
     "iopub.status.idle": "2024-04-10T10:57:45.572460Z",
     "shell.execute_reply": "2024-04-10T10:57:45.571672Z"
    },
    "papermill": {
     "duration": 0.017941,
     "end_time": "2024-04-10T10:57:45.574274",
     "exception": false,
     "start_time": "2024-04-10T10:57:45.556333",
     "status": "completed"
    },
    "tags": []
   },
   "outputs": [
    {
     "data": {
      "text/plain": [
       "['data/GOOGL.xlsx',\n",
       " 'data/AMZN.xlsx',\n",
       " 'data/AAPL.xlsx',\n",
       " 'data/MSFT.xlsx',\n",
       " 'data/IBM.xlsx']"
      ]
     },
     "execution_count": null,
     "metadata": {},
     "output_type": "execute_result"
    }
   ],
   "source": []
  },
  {
   "cell_type": "code",
   "execution_count": null,
   "id": "9582078a",
   "metadata": {
    "execution": {
     "iopub.execute_input": "2024-04-10T10:57:45.597313Z",
     "iopub.status.busy": "2024-04-10T10:57:45.596975Z",
     "iopub.status.idle": "2024-04-10T10:57:48.491397Z",
     "shell.execute_reply": "2024-04-10T10:57:48.490652Z"
    },
    "papermill": {
     "duration": 2.902308,
     "end_time": "2024-04-10T10:57:48.493210",
     "exception": false,
     "start_time": "2024-04-10T10:57:45.590902",
     "status": "completed"
    },
    "tags": []
   },
   "outputs": [],
   "source": []
  },
  {
   "cell_type": "code",
   "execution_count": null,
   "id": "f851e851",
   "metadata": {
    "execution": {
     "iopub.execute_input": "2024-04-10T10:57:48.501667Z",
     "iopub.status.busy": "2024-04-10T10:57:48.501241Z",
     "iopub.status.idle": "2024-04-10T10:57:48.513540Z",
     "shell.execute_reply": "2024-04-10T10:57:48.513051Z"
    },
    "papermill": {
     "duration": 0.018911,
     "end_time": "2024-04-10T10:57:48.515123",
     "exception": false,
     "start_time": "2024-04-10T10:57:48.496212",
     "status": "completed"
    },
    "tags": []
   },
   "outputs": [
    {
     "data": {
      "text/html": [
       "<div>\n",
       "<style scoped>\n",
       "    .dataframe tbody tr th:only-of-type {\n",
       "        vertical-align: middle;\n",
       "    }\n",
       "\n",
       "    .dataframe tbody tr th {\n",
       "        vertical-align: top;\n",
       "    }\n",
       "\n",
       "    .dataframe thead th {\n",
       "        text-align: right;\n",
       "    }\n",
       "</style>\n",
       "<table border=\"1\" class=\"dataframe\">\n",
       "  <thead>\n",
       "    <tr style=\"text-align: right;\">\n",
       "      <th></th>\n",
       "      <th>open</th>\n",
       "      <th>high</th>\n",
       "      <th>low</th>\n",
       "      <th>close</th>\n",
       "      <th>volume</th>\n",
       "    </tr>\n",
       "  </thead>\n",
       "  <tbody>\n",
       "    <tr>\n",
       "      <th>2024-04-05</th>\n",
       "      <td>150.03</td>\n",
       "      <td>153.42</td>\n",
       "      <td>149.60</td>\n",
       "      <td>152.500</td>\n",
       "      <td>23328522</td>\n",
       "    </tr>\n",
       "    <tr>\n",
       "      <th>2024-04-04</th>\n",
       "      <td>153.50</td>\n",
       "      <td>154.77</td>\n",
       "      <td>150.45</td>\n",
       "      <td>150.530</td>\n",
       "      <td>34468227</td>\n",
       "    </tr>\n",
       "    <tr>\n",
       "      <th>...</th>\n",
       "      <td>...</td>\n",
       "      <td>...</td>\n",
       "      <td>...</td>\n",
       "      <td>...</td>\n",
       "      <td>...</td>\n",
       "    </tr>\n",
       "    <tr>\n",
       "      <th>2004-08-20</th>\n",
       "      <td>101.01</td>\n",
       "      <td>109.08</td>\n",
       "      <td>100.50</td>\n",
       "      <td>108.310</td>\n",
       "      <td>22834300</td>\n",
       "    </tr>\n",
       "    <tr>\n",
       "      <th>2004-08-19</th>\n",
       "      <td>100.01</td>\n",
       "      <td>104.06</td>\n",
       "      <td>95.96</td>\n",
       "      <td>100.335</td>\n",
       "      <td>44659000</td>\n",
       "    </tr>\n",
       "  </tbody>\n",
       "</table>\n",
       "<p>4941 rows × 5 columns</p>\n",
       "</div>"
      ],
      "text/plain": [
       "              open    high     low    close    volume\n",
       "2024-04-05  150.03  153.42  149.60  152.500  23328522\n",
       "2024-04-04  153.50  154.77  150.45  150.530  34468227\n",
       "...            ...     ...     ...      ...       ...\n",
       "2004-08-20  101.01  109.08  100.50  108.310  22834300\n",
       "2004-08-19  100.01  104.06   95.96  100.335  44659000\n",
       "\n",
       "[4941 rows x 5 columns]"
      ]
     },
     "execution_count": null,
     "metadata": {},
     "output_type": "execute_result"
    }
   ],
   "source": []
  },
  {
   "cell_type": "code",
   "execution_count": null,
   "id": "3a0f7958",
   "metadata": {
    "execution": {
     "iopub.execute_input": "2024-04-10T10:57:48.541211Z",
     "iopub.status.busy": "2024-04-10T10:57:48.540503Z",
     "iopub.status.idle": "2024-04-10T10:57:48.551305Z",
     "shell.execute_reply": "2024-04-10T10:57:48.550670Z"
    },
    "papermill": {
     "duration": 0.020436,
     "end_time": "2024-04-10T10:57:48.553084",
     "exception": false,
     "start_time": "2024-04-10T10:57:48.532648",
     "status": "completed"
    },
    "tags": []
   },
   "outputs": [
    {
     "data": {
      "text/html": [
       "<div>\n",
       "<style scoped>\n",
       "    .dataframe tbody tr th:only-of-type {\n",
       "        vertical-align: middle;\n",
       "    }\n",
       "\n",
       "    .dataframe tbody tr th {\n",
       "        vertical-align: top;\n",
       "    }\n",
       "\n",
       "    .dataframe thead th {\n",
       "        text-align: right;\n",
       "    }\n",
       "</style>\n",
       "<table border=\"1\" class=\"dataframe\">\n",
       "  <thead>\n",
       "    <tr style=\"text-align: right;\">\n",
       "      <th></th>\n",
       "      <th>open</th>\n",
       "      <th>high</th>\n",
       "      <th>low</th>\n",
       "      <th>close</th>\n",
       "      <th>volume</th>\n",
       "    </tr>\n",
       "  </thead>\n",
       "  <tbody>\n",
       "    <tr>\n",
       "      <th>2024-04-05</th>\n",
       "      <td>182.38</td>\n",
       "      <td>186.27</td>\n",
       "      <td>181.97</td>\n",
       "      <td>185.07</td>\n",
       "      <td>42072115</td>\n",
       "    </tr>\n",
       "    <tr>\n",
       "      <th>2024-04-04</th>\n",
       "      <td>184.00</td>\n",
       "      <td>185.10</td>\n",
       "      <td>180.00</td>\n",
       "      <td>180.00</td>\n",
       "      <td>41197087</td>\n",
       "    </tr>\n",
       "    <tr>\n",
       "      <th>...</th>\n",
       "      <td>...</td>\n",
       "      <td>...</td>\n",
       "      <td>...</td>\n",
       "      <td>...</td>\n",
       "      <td>...</td>\n",
       "    </tr>\n",
       "    <tr>\n",
       "      <th>1999-11-02</th>\n",
       "      <td>69.75</td>\n",
       "      <td>70.00</td>\n",
       "      <td>65.06</td>\n",
       "      <td>66.44</td>\n",
       "      <td>13243200</td>\n",
       "    </tr>\n",
       "    <tr>\n",
       "      <th>1999-11-01</th>\n",
       "      <td>68.06</td>\n",
       "      <td>71.88</td>\n",
       "      <td>66.31</td>\n",
       "      <td>69.13</td>\n",
       "      <td>12824100</td>\n",
       "    </tr>\n",
       "  </tbody>\n",
       "</table>\n",
       "<p>6146 rows × 5 columns</p>\n",
       "</div>"
      ],
      "text/plain": [
       "              open    high     low   close    volume\n",
       "2024-04-05  182.38  186.27  181.97  185.07  42072115\n",
       "2024-04-04  184.00  185.10  180.00  180.00  41197087\n",
       "...            ...     ...     ...     ...       ...\n",
       "1999-11-02   69.75   70.00   65.06   66.44  13243200\n",
       "1999-11-01   68.06   71.88   66.31   69.13  12824100\n",
       "\n",
       "[6146 rows x 5 columns]"
      ]
     },
     "execution_count": null,
     "metadata": {},
     "output_type": "execute_result"
    }
   ],
   "source": []
  },
  {
   "attachments": {},
   "cell_type": "markdown",
   "id": "2b6c37fe",
   "metadata": {
    "papermill": {
     "duration": 0.008057,
     "end_time": "2024-04-10T10:57:48.575249",
     "exception": false,
     "start_time": "2024-04-10T10:57:48.567192",
     "status": "completed"
    },
    "tags": []
   },
   "source": [
    "## Concatenate DataFrames\n",
    "\n",
    "https://pandas.pydata.org/docs/user_guide/merging.html\n",
    "\n",
    "### Vertical"
   ]
  },
  {
   "cell_type": "code",
   "execution_count": null,
   "id": "7a4db748",
   "metadata": {
    "execution": {
     "iopub.execute_input": "2024-04-10T10:57:48.584080Z",
     "iopub.status.busy": "2024-04-10T10:57:48.583786Z",
     "iopub.status.idle": "2024-04-10T10:57:48.602223Z",
     "shell.execute_reply": "2024-04-10T10:57:48.601581Z"
    },
    "papermill": {
     "duration": 0.025375,
     "end_time": "2024-04-10T10:57:48.604627",
     "exception": false,
     "start_time": "2024-04-10T10:57:48.579252",
     "status": "completed"
    },
    "tags": []
   },
   "outputs": [
    {
     "data": {
      "text/html": [
       "<div>\n",
       "<style scoped>\n",
       "    .dataframe tbody tr th:only-of-type {\n",
       "        vertical-align: middle;\n",
       "    }\n",
       "\n",
       "    .dataframe tbody tr th {\n",
       "        vertical-align: top;\n",
       "    }\n",
       "\n",
       "    .dataframe thead th {\n",
       "        text-align: right;\n",
       "    }\n",
       "</style>\n",
       "<table border=\"1\" class=\"dataframe\">\n",
       "  <thead>\n",
       "    <tr style=\"text-align: right;\">\n",
       "      <th></th>\n",
       "      <th>open</th>\n",
       "      <th>high</th>\n",
       "      <th>low</th>\n",
       "      <th>close</th>\n",
       "      <th>volume</th>\n",
       "      <th>ticker</th>\n",
       "    </tr>\n",
       "  </thead>\n",
       "  <tbody>\n",
       "    <tr>\n",
       "      <th>2024-04-05</th>\n",
       "      <td>150.03</td>\n",
       "      <td>153.42</td>\n",
       "      <td>149.60</td>\n",
       "      <td>152.50</td>\n",
       "      <td>23328522</td>\n",
       "      <td>GOOGL</td>\n",
       "    </tr>\n",
       "    <tr>\n",
       "      <th>2024-04-04</th>\n",
       "      <td>153.50</td>\n",
       "      <td>154.77</td>\n",
       "      <td>150.45</td>\n",
       "      <td>150.53</td>\n",
       "      <td>34468227</td>\n",
       "      <td>GOOGL</td>\n",
       "    </tr>\n",
       "    <tr>\n",
       "      <th>...</th>\n",
       "      <td>...</td>\n",
       "      <td>...</td>\n",
       "      <td>...</td>\n",
       "      <td>...</td>\n",
       "      <td>...</td>\n",
       "      <td>...</td>\n",
       "    </tr>\n",
       "    <tr>\n",
       "      <th>1999-11-02</th>\n",
       "      <td>69.75</td>\n",
       "      <td>70.00</td>\n",
       "      <td>65.06</td>\n",
       "      <td>66.44</td>\n",
       "      <td>13243200</td>\n",
       "      <td>AMZN</td>\n",
       "    </tr>\n",
       "    <tr>\n",
       "      <th>1999-11-01</th>\n",
       "      <td>68.06</td>\n",
       "      <td>71.88</td>\n",
       "      <td>66.31</td>\n",
       "      <td>69.13</td>\n",
       "      <td>12824100</td>\n",
       "      <td>AMZN</td>\n",
       "    </tr>\n",
       "  </tbody>\n",
       "</table>\n",
       "<p>11087 rows × 6 columns</p>\n",
       "</div>"
      ],
      "text/plain": [
       "              open    high     low   close    volume ticker\n",
       "2024-04-05  150.03  153.42  149.60  152.50  23328522  GOOGL\n",
       "2024-04-04  153.50  154.77  150.45  150.53  34468227  GOOGL\n",
       "...            ...     ...     ...     ...       ...    ...\n",
       "1999-11-02   69.75   70.00   65.06   66.44  13243200   AMZN\n",
       "1999-11-01   68.06   71.88   66.31   69.13  12824100   AMZN\n",
       "\n",
       "[11087 rows x 6 columns]"
      ]
     },
     "execution_count": null,
     "metadata": {},
     "output_type": "execute_result"
    }
   ],
   "source": []
  },
  {
   "cell_type": "code",
   "execution_count": null,
   "id": "e3458ef3",
   "metadata": {},
   "outputs": [
    {
     "data": {
      "image/png": "[encoded data removed]",
      "text/plain": [
       "<Figure size 640x480 with 1 Axes>"
      ]
     },
     "execution_count": null,
     "metadata": {},
     "output_type": "display_data"
    }
   ],
   "source": []
  },
  {
   "cell_type": "markdown",
   "id": "403ae5b3",
   "metadata": {},
   "source": [
    "---"
   ]
  },
  {
   "attachments": {},
   "cell_type": "markdown",
   "id": "204abe13",
   "metadata": {
    "papermill": {
     "duration": 0.003561,
     "end_time": "2024-04-10T10:57:49.645837",
     "exception": false,
     "start_time": "2024-04-10T10:57:49.642276",
     "status": "completed"
    },
    "tags": []
   },
   "source": [
    "### Horizontal"
   ]
  },
  {
   "cell_type": "code",
   "execution_count": null,
   "id": "15e4fbcc",
   "metadata": {
    "execution": {
     "iopub.execute_input": "2024-04-10T10:57:49.661406Z",
     "iopub.status.busy": "2024-04-10T10:57:49.660670Z",
     "iopub.status.idle": "2024-04-10T10:57:49.698746Z",
     "shell.execute_reply": "2024-04-10T10:57:49.697995Z"
    },
    "papermill": {
     "duration": 0.048285,
     "end_time": "2024-04-10T10:57:49.701248",
     "exception": false,
     "start_time": "2024-04-10T10:57:49.652963",
     "status": "completed"
    },
    "tags": []
   },
   "outputs": [
    {
     "data": {
      "text/html": [
       "<div>\n",
       "<style scoped>\n",
       "    .dataframe tbody tr th:only-of-type {\n",
       "        vertical-align: middle;\n",
       "    }\n",
       "\n",
       "    .dataframe tbody tr th {\n",
       "        vertical-align: top;\n",
       "    }\n",
       "\n",
       "    .dataframe thead th {\n",
       "        text-align: right;\n",
       "    }\n",
       "</style>\n",
       "<table border=\"1\" class=\"dataframe\">\n",
       "  <thead>\n",
       "    <tr style=\"text-align: right;\">\n",
       "      <th></th>\n",
       "      <th>open</th>\n",
       "      <th>high</th>\n",
       "      <th>low</th>\n",
       "      <th>close</th>\n",
       "      <th>volume</th>\n",
       "      <th>ticker</th>\n",
       "      <th>open</th>\n",
       "      <th>high</th>\n",
       "      <th>low</th>\n",
       "      <th>close</th>\n",
       "      <th>volume</th>\n",
       "      <th>ticker</th>\n",
       "    </tr>\n",
       "  </thead>\n",
       "  <tbody>\n",
       "    <tr>\n",
       "      <th>1999-11-01</th>\n",
       "      <td>NaN</td>\n",
       "      <td>NaN</td>\n",
       "      <td>NaN</td>\n",
       "      <td>NaN</td>\n",
       "      <td>NaN</td>\n",
       "      <td>NaN</td>\n",
       "      <td>68.06</td>\n",
       "      <td>71.88</td>\n",
       "      <td>66.31</td>\n",
       "      <td>69.13</td>\n",
       "      <td>12824100</td>\n",
       "      <td>AMZN</td>\n",
       "    </tr>\n",
       "    <tr>\n",
       "      <th>1999-11-02</th>\n",
       "      <td>NaN</td>\n",
       "      <td>NaN</td>\n",
       "      <td>NaN</td>\n",
       "      <td>NaN</td>\n",
       "      <td>NaN</td>\n",
       "      <td>NaN</td>\n",
       "      <td>69.75</td>\n",
       "      <td>70.00</td>\n",
       "      <td>65.06</td>\n",
       "      <td>66.44</td>\n",
       "      <td>13243200</td>\n",
       "      <td>AMZN</td>\n",
       "    </tr>\n",
       "    <tr>\n",
       "      <th>...</th>\n",
       "      <td>...</td>\n",
       "      <td>...</td>\n",
       "      <td>...</td>\n",
       "      <td>...</td>\n",
       "      <td>...</td>\n",
       "      <td>...</td>\n",
       "      <td>...</td>\n",
       "      <td>...</td>\n",
       "      <td>...</td>\n",
       "      <td>...</td>\n",
       "      <td>...</td>\n",
       "      <td>...</td>\n",
       "    </tr>\n",
       "    <tr>\n",
       "      <th>2024-04-04</th>\n",
       "      <td>153.50</td>\n",
       "      <td>154.77</td>\n",
       "      <td>150.45</td>\n",
       "      <td>150.53</td>\n",
       "      <td>34468227.0</td>\n",
       "      <td>GOOGL</td>\n",
       "      <td>184.00</td>\n",
       "      <td>185.10</td>\n",
       "      <td>180.00</td>\n",
       "      <td>180.00</td>\n",
       "      <td>41197087</td>\n",
       "      <td>AMZN</td>\n",
       "    </tr>\n",
       "    <tr>\n",
       "      <th>2024-04-05</th>\n",
       "      <td>150.03</td>\n",
       "      <td>153.42</td>\n",
       "      <td>149.60</td>\n",
       "      <td>152.50</td>\n",
       "      <td>23328522.0</td>\n",
       "      <td>GOOGL</td>\n",
       "      <td>182.38</td>\n",
       "      <td>186.27</td>\n",
       "      <td>181.97</td>\n",
       "      <td>185.07</td>\n",
       "      <td>42072115</td>\n",
       "      <td>AMZN</td>\n",
       "    </tr>\n",
       "  </tbody>\n",
       "</table>\n",
       "<p>6146 rows × 12 columns</p>\n",
       "</div>"
      ],
      "text/plain": [
       "              open    high     low   close      volume ticker    open    high  \\\n",
       "1999-11-01     NaN     NaN     NaN     NaN         NaN    NaN   68.06   71.88   \n",
       "1999-11-02     NaN     NaN     NaN     NaN         NaN    NaN   69.75   70.00   \n",
       "...            ...     ...     ...     ...         ...    ...     ...     ...   \n",
       "2024-04-04  153.50  154.77  150.45  150.53  34468227.0  GOOGL  184.00  185.10   \n",
       "2024-04-05  150.03  153.42  149.60  152.50  23328522.0  GOOGL  182.38  186.27   \n",
       "\n",
       "               low   close    volume ticker  \n",
       "1999-11-01   66.31   69.13  12824100   AMZN  \n",
       "1999-11-02   65.06   66.44  13243200   AMZN  \n",
       "...            ...     ...       ...    ...  \n",
       "2024-04-04  180.00  180.00  41197087   AMZN  \n",
       "2024-04-05  181.97  185.07  42072115   AMZN  \n",
       "\n",
       "[6146 rows x 12 columns]"
      ]
     },
     "execution_count": null,
     "metadata": {},
     "output_type": "execute_result"
    }
   ],
   "source": []
  },
  {
   "cell_type": "code",
   "execution_count": null,
   "id": "621de3a1",
   "metadata": {
    "execution": {
     "iopub.execute_input": "2024-04-10T10:57:49.729436Z",
     "iopub.status.busy": "2024-04-10T10:57:49.729109Z",
     "iopub.status.idle": "2024-04-10T10:57:50.134356Z",
     "shell.execute_reply": "2024-04-10T10:57:50.133675Z"
    },
    "papermill": {
     "duration": 0.412214,
     "end_time": "2024-04-10T10:57:50.136227",
     "exception": false,
     "start_time": "2024-04-10T10:57:49.724013",
     "status": "completed"
    },
    "tags": []
   },
   "outputs": [
    {
     "data": {
      "image/png": "[encoded data removed]",
      "text/plain": [
       "<Figure size 640x480 with 1 Axes>"
      ]
     },
     "execution_count": null,
     "metadata": {},
     "output_type": "display_data"
    }
   ],
   "source": []
  }
 ],
 "metadata": {
  "kernelspec": {
   "display_name": "datons.stories",
   "language": "python",
   "name": "python3"
  },
  "language_info": {
   "codemirror_mode": {
    "name": "ipython",
    "version": 3
   },
   "file_extension": ".py",
   "mimetype": "text/x-python",
   "name": "python",
   "nbconvert_exporter": "python",
   "pygments_lexer": "ipython3",
   "version": "3.12.2"
  },
  "papermill": {
   "default_parameters": {},
   "duration": 5.899999,
   "end_time": "2024-04-10T10:57:50.464955",
   "environment_variables": {},
   "exception": null,
   "input_path": "/Users/sota/Dropbox/2 Business/2 Areas/datons.academy/2 Areas/Products/Digital Courses/DAV/course-maven/solutions/notebooks/70_Join Multiple Tables/71_Concatenate/B.ipynb",
   "output_path": "/Users/sota/Dropbox/2 Business/2 Areas/datons.academy/2 Areas/Products/Digital Courses/DAV/course-maven/solutions/notebooks/70_Join Multiple Tables/71_Concatenate/B.ipynb",
   "parameters": {},
   "start_time": "2024-04-10T10:57:44.564956",
   "version": "2.5.0"
  }
 },
 "nbformat": 4,
 "nbformat_minor": 5
}
