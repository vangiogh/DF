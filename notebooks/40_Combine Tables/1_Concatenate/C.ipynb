{
 "cells": [
  {
   "attachments": {},
   "cell_type": "markdown",
   "id": "60e38c96",
   "metadata": {
    "papermill": {
     "duration": 0.004281,
     "end_time": "2024-04-10T10:57:45.543581",
     "exception": false,
     "start_time": "2024-04-10T10:57:45.539300",
     "status": "completed"
    },
    "tags": []
   },
   "source": [
    "## Concatenate DataFrames"
   ]
  },
  {
   "attachments": {},
   "cell_type": "markdown",
   "id": "4af4effa",
   "metadata": {
    "papermill": {
     "duration": 0.004759,
     "end_time": "2024-04-10T10:57:45.552108",
     "exception": false,
     "start_time": "2024-04-10T10:57:45.547349",
     "status": "completed"
    },
    "tags": []
   },
   "source": [
    "## Load data files\n",
    "\n",
    "They must be in a dictionary with a key name to access each DataFrame."
   ]
  },
  {
   "cell_type": "code",
   "execution_count": null,
   "id": "bf6021be",
   "metadata": {
    "execution": {
     "iopub.execute_input": "2024-04-10T10:57:45.562202Z",
     "iopub.status.busy": "2024-04-10T10:57:45.561634Z",
     "iopub.status.idle": "2024-04-10T10:57:45.572460Z",
     "shell.execute_reply": "2024-04-10T10:57:45.571672Z"
    },
    "papermill": {
     "duration": 0.017941,
     "end_time": "2024-04-10T10:57:45.574274",
     "exception": false,
     "start_time": "2024-04-10T10:57:45.556333",
     "status": "completed"
    },
    "tags": []
   },
   "outputs": [],
   "source": []
  },
  {
   "cell_type": "code",
   "execution_count": null,
   "id": "9582078a",
   "metadata": {
    "execution": {
     "iopub.execute_input": "2024-04-10T10:57:45.597313Z",
     "iopub.status.busy": "2024-04-10T10:57:45.596975Z",
     "iopub.status.idle": "2024-04-10T10:57:48.491397Z",
     "shell.execute_reply": "2024-04-10T10:57:48.490652Z"
    },
    "papermill": {
     "duration": 2.902308,
     "end_time": "2024-04-10T10:57:48.493210",
     "exception": false,
     "start_time": "2024-04-10T10:57:45.590902",
     "status": "completed"
    },
    "tags": []
   },
   "outputs": [],
   "source": []
  },
  {
   "cell_type": "code",
   "execution_count": null,
   "id": "f851e851",
   "metadata": {
    "execution": {
     "iopub.execute_input": "2024-04-10T10:57:48.501667Z",
     "iopub.status.busy": "2024-04-10T10:57:48.501241Z",
     "iopub.status.idle": "2024-04-10T10:57:48.513540Z",
     "shell.execute_reply": "2024-04-10T10:57:48.513051Z"
    },
    "papermill": {
     "duration": 0.018911,
     "end_time": "2024-04-10T10:57:48.515123",
     "exception": false,
     "start_time": "2024-04-10T10:57:48.496212",
     "status": "completed"
    },
    "tags": []
   },
   "outputs": [],
   "source": []
  },
  {
   "cell_type": "code",
   "execution_count": null,
   "id": "3a0f7958",
   "metadata": {
    "execution": {
     "iopub.execute_input": "2024-04-10T10:57:48.541211Z",
     "iopub.status.busy": "2024-04-10T10:57:48.540503Z",
     "iopub.status.idle": "2024-04-10T10:57:48.551305Z",
     "shell.execute_reply": "2024-04-10T10:57:48.550670Z"
    },
    "papermill": {
     "duration": 0.020436,
     "end_time": "2024-04-10T10:57:48.553084",
     "exception": false,
     "start_time": "2024-04-10T10:57:48.532648",
     "status": "completed"
    },
    "tags": []
   },
   "outputs": [],
   "source": []
  },
  {
   "attachments": {},
   "cell_type": "markdown",
   "id": "2b6c37fe",
   "metadata": {
    "papermill": {
     "duration": 0.008057,
     "end_time": "2024-04-10T10:57:48.575249",
     "exception": false,
     "start_time": "2024-04-10T10:57:48.567192",
     "status": "completed"
    },
    "tags": []
   },
   "source": [
    "## Concatenate DataFrames\n",
    "\n",
    "https://pandas.pydata.org/docs/user_guide/merging.html\n",
    "\n",
    "### Vertical"
   ]
  },
  {
   "cell_type": "code",
   "execution_count": null,
   "id": "7a4db748",
   "metadata": {
    "execution": {
     "iopub.execute_input": "2024-04-10T10:57:48.584080Z",
     "iopub.status.busy": "2024-04-10T10:57:48.583786Z",
     "iopub.status.idle": "2024-04-10T10:57:48.602223Z",
     "shell.execute_reply": "2024-04-10T10:57:48.601581Z"
    },
    "papermill": {
     "duration": 0.025375,
     "end_time": "2024-04-10T10:57:48.604627",
     "exception": false,
     "start_time": "2024-04-10T10:57:48.579252",
     "status": "completed"
    },
    "tags": []
   },
   "outputs": [],
   "source": []
  },
  {
   "cell_type": "code",
   "execution_count": null,
   "id": "e3458ef3",
   "metadata": {},
   "outputs": [],
   "source": []
  },
  {
   "cell_type": "markdown",
   "id": "403ae5b3",
   "metadata": {},
   "source": [
    "---"
   ]
  },
  {
   "attachments": {},
   "cell_type": "markdown",
   "id": "204abe13",
   "metadata": {
    "papermill": {
     "duration": 0.003561,
     "end_time": "2024-04-10T10:57:49.645837",
     "exception": false,
     "start_time": "2024-04-10T10:57:49.642276",
     "status": "completed"
    },
    "tags": []
   },
   "source": [
    "### Horizontal"
   ]
  },
  {
   "cell_type": "code",
   "execution_count": null,
   "id": "15e4fbcc",
   "metadata": {
    "execution": {
     "iopub.execute_input": "2024-04-10T10:57:49.661406Z",
     "iopub.status.busy": "2024-04-10T10:57:49.660670Z",
     "iopub.status.idle": "2024-04-10T10:57:49.698746Z",
     "shell.execute_reply": "2024-04-10T10:57:49.697995Z"
    },
    "papermill": {
     "duration": 0.048285,
     "end_time": "2024-04-10T10:57:49.701248",
     "exception": false,
     "start_time": "2024-04-10T10:57:49.652963",
     "status": "completed"
    },
    "tags": []
   },
   "outputs": [],
   "source": []
  },
  {
   "cell_type": "code",
   "execution_count": null,
   "id": "621de3a1",
   "metadata": {
    "execution": {
     "iopub.execute_input": "2024-04-10T10:57:49.729436Z",
     "iopub.status.busy": "2024-04-10T10:57:49.729109Z",
     "iopub.status.idle": "2024-04-10T10:57:50.134356Z",
     "shell.execute_reply": "2024-04-10T10:57:50.133675Z"
    },
    "papermill": {
     "duration": 0.412214,
     "end_time": "2024-04-10T10:57:50.136227",
     "exception": false,
     "start_time": "2024-04-10T10:57:49.724013",
     "status": "completed"
    },
    "tags": []
   },
   "outputs": [],
   "source": []
  }
 ],
 "metadata": {
  "kernelspec": {
   "display_name": "datons.stories",
   "language": "python",
   "name": "python3"
  },
  "language_info": {
   "codemirror_mode": {
    "name": "ipython",
    "version": 3
   },
   "file_extension": ".py",
   "mimetype": "text/x-python",
   "name": "python",
   "nbconvert_exporter": "python",
   "pygments_lexer": "ipython3",
   "version": "3.12.2"
  },
  "papermill": {
   "default_parameters": {},
   "duration": 5.899999,
   "end_time": "2024-04-10T10:57:50.464955",
   "environment_variables": {},
   "exception": null,
   "input_path": "/Users/sota/Dropbox/2 Business/2 Areas/datons.academy/2 Areas/Products/Digital Courses/DAV/course-maven/solutions/notebooks/70_Join Multiple Tables/71_Concatenate/B.ipynb",
   "output_path": "/Users/sota/Dropbox/2 Business/2 Areas/datons.academy/2 Areas/Products/Digital Courses/DAV/course-maven/solutions/notebooks/70_Join Multiple Tables/71_Concatenate/B.ipynb",
   "parameters": {},
   "start_time": "2024-04-10T10:57:44.564956",
   "version": "2.5.0"
  }
 },
 "nbformat": 4,
 "nbformat_minor": 5
}
