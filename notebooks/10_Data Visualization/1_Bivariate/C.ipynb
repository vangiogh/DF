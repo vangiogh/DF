{
 "cells": [
  {
   "attachments": {},
   "cell_type": "markdown",
   "id": "37bff365-9df7-4a21-a604-37b31873cb1e",
   "metadata": {
    "papermill": {
     "duration": 0.004014,
     "end_time": "2024-04-10T10:49:45.263146",
     "exception": false,
     "start_time": "2024-04-10T10:49:45.259132",
     "status": "completed"
    },
    "tags": []
   },
   "source": [
    "# Data Visualizations with Excel Data Tables"
   ]
  },
  {
   "attachments": {},
   "cell_type": "markdown",
   "id": "2c2a3110-1720-4c9b-9c0f-f2984069e465",
   "metadata": {
    "papermill": {
     "duration": 0.003557,
     "end_time": "2024-04-10T10:49:45.270918",
     "exception": false,
     "start_time": "2024-04-10T10:49:45.267361",
     "status": "completed"
    },
    "tags": []
   },
   "source": [
    "## Data"
   ]
  },
  {
   "cell_type": "code",
   "execution_count": 10,
   "id": "b887bf21-d178-4bc5-8c32-c51eb5f3b121",
   "metadata": {
    "execution": {
     "iopub.execute_input": "2024-04-10T10:49:45.280219Z",
     "iopub.status.busy": "2024-04-10T10:49:45.279958Z",
     "iopub.status.idle": "2024-04-10T10:49:45.876100Z",
     "shell.execute_reply": "2024-04-10T10:49:45.875306Z"
    },
    "papermill": {
     "duration": 0.602369,
     "end_time": "2024-04-10T10:49:45.878190",
     "exception": false,
     "start_time": "2024-04-10T10:49:45.275821",
     "status": "completed"
    },
    "tags": []
   },
   "outputs": [],
   "source": [
    "import pandas as pd"
   ]
  },
  {
   "cell_type": "code",
   "execution_count": 13,
   "id": "6b2705e9",
   "metadata": {
    "execution": {
     "iopub.execute_input": "2024-04-10T10:49:45.887656Z",
     "iopub.status.busy": "2024-04-10T10:49:45.887287Z",
     "iopub.status.idle": "2024-04-10T10:49:45.899388Z",
     "shell.execute_reply": "2024-04-10T10:49:45.898874Z"
    },
    "papermill": {
     "duration": 0.019361,
     "end_time": "2024-04-10T10:49:45.901330",
     "exception": false,
     "start_time": "2024-04-10T10:49:45.881969",
     "status": "completed"
    },
    "tags": []
   },
   "outputs": [],
   "source": [
    "df = pd.read_excel('data/gapminder.xlsx')"
   ]
  },
  {
   "cell_type": "code",
   "execution_count": 14,
   "id": "37564dd1",
   "metadata": {},
   "outputs": [
    {
     "data": {
      "text/html": [
       "<div>\n",
       "<style scoped>\n",
       "    .dataframe tbody tr th:only-of-type {\n",
       "        vertical-align: middle;\n",
       "    }\n",
       "\n",
       "    .dataframe tbody tr th {\n",
       "        vertical-align: top;\n",
       "    }\n",
       "\n",
       "    .dataframe thead th {\n",
       "        text-align: right;\n",
       "    }\n",
       "</style>\n",
       "<table border=\"1\" class=\"dataframe\">\n",
       "  <thead>\n",
       "    <tr style=\"text-align: right;\">\n",
       "      <th></th>\n",
       "      <th>country</th>\n",
       "      <th>life_expectancy</th>\n",
       "      <th>money_per_person</th>\n",
       "    </tr>\n",
       "  </thead>\n",
       "  <tbody>\n",
       "    <tr>\n",
       "      <th>0</th>\n",
       "      <td>Afghanistan</td>\n",
       "      <td>43.828</td>\n",
       "      <td>974.580338</td>\n",
       "    </tr>\n",
       "    <tr>\n",
       "      <th>1</th>\n",
       "      <td>Albania</td>\n",
       "      <td>76.423</td>\n",
       "      <td>5937.029526</td>\n",
       "    </tr>\n",
       "    <tr>\n",
       "      <th>2</th>\n",
       "      <td>Algeria</td>\n",
       "      <td>72.301</td>\n",
       "      <td>6223.367465</td>\n",
       "    </tr>\n",
       "    <tr>\n",
       "      <th>3</th>\n",
       "      <td>Angola</td>\n",
       "      <td>42.731</td>\n",
       "      <td>4797.231267</td>\n",
       "    </tr>\n",
       "    <tr>\n",
       "      <th>4</th>\n",
       "      <td>Argentina</td>\n",
       "      <td>75.320</td>\n",
       "      <td>12779.379640</td>\n",
       "    </tr>\n",
       "    <tr>\n",
       "      <th>...</th>\n",
       "      <td>...</td>\n",
       "      <td>...</td>\n",
       "      <td>...</td>\n",
       "    </tr>\n",
       "    <tr>\n",
       "      <th>137</th>\n",
       "      <td>Vietnam</td>\n",
       "      <td>74.249</td>\n",
       "      <td>2441.576404</td>\n",
       "    </tr>\n",
       "    <tr>\n",
       "      <th>138</th>\n",
       "      <td>West Bank and Gaza</td>\n",
       "      <td>73.422</td>\n",
       "      <td>3025.349798</td>\n",
       "    </tr>\n",
       "    <tr>\n",
       "      <th>139</th>\n",
       "      <td>Yemen, Rep.</td>\n",
       "      <td>62.698</td>\n",
       "      <td>2280.769906</td>\n",
       "    </tr>\n",
       "    <tr>\n",
       "      <th>140</th>\n",
       "      <td>Zambia</td>\n",
       "      <td>42.384</td>\n",
       "      <td>1271.211593</td>\n",
       "    </tr>\n",
       "    <tr>\n",
       "      <th>141</th>\n",
       "      <td>Zimbabwe</td>\n",
       "      <td>43.487</td>\n",
       "      <td>469.709298</td>\n",
       "    </tr>\n",
       "  </tbody>\n",
       "</table>\n",
       "<p>142 rows × 3 columns</p>\n",
       "</div>"
      ],
      "text/plain": [
       "                country  life_expectancy  money_per_person\n",
       "0           Afghanistan           43.828        974.580338\n",
       "1               Albania           76.423       5937.029526\n",
       "2               Algeria           72.301       6223.367465\n",
       "3                Angola           42.731       4797.231267\n",
       "4             Argentina           75.320      12779.379640\n",
       "..                  ...              ...               ...\n",
       "137             Vietnam           74.249       2441.576404\n",
       "138  West Bank and Gaza           73.422       3025.349798\n",
       "139         Yemen, Rep.           62.698       2280.769906\n",
       "140              Zambia           42.384       1271.211593\n",
       "141            Zimbabwe           43.487        469.709298\n",
       "\n",
       "[142 rows x 3 columns]"
      ]
     },
     "execution_count": 14,
     "metadata": {},
     "output_type": "execute_result"
    }
   ],
   "source": [
    "df"
   ]
  },
  {
   "attachments": {},
   "cell_type": "markdown",
   "id": "4f3d26ff-f1cd-411b-9d8c-4d44b5d89a3b",
   "metadata": {
    "papermill": {
     "duration": 0.003868,
     "end_time": "2024-04-10T10:49:45.908849",
     "exception": false,
     "start_time": "2024-04-10T10:49:45.904981",
     "status": "completed"
    },
    "tags": []
   },
   "source": [
    "## Create a scatter plot"
   ]
  },
  {
   "attachments": {},
   "cell_type": "markdown",
   "id": "4209e114-c51c-44da-af84-fdb1df19fc51",
   "metadata": {
    "papermill": {
     "duration": 0.024816,
     "end_time": "2024-04-10T10:49:45.937252",
     "exception": false,
     "start_time": "2024-04-10T10:49:45.912436",
     "status": "completed"
    },
    "tags": []
   },
   "source": [
    "### Import matplotlib library"
   ]
  },
  {
   "cell_type": "code",
   "execution_count": 16,
   "id": "a0e78876-80ac-4935-8433-c43208173012",
   "metadata": {
    "execution": {
     "iopub.execute_input": "2024-04-10T10:49:45.951372Z",
     "iopub.status.busy": "2024-04-10T10:49:45.951083Z",
     "iopub.status.idle": "2024-04-10T10:49:46.480709Z",
     "shell.execute_reply": "2024-04-10T10:49:46.480101Z"
    },
    "papermill": {
     "duration": 0.537312,
     "end_time": "2024-04-10T10:49:46.482725",
     "exception": false,
     "start_time": "2024-04-10T10:49:45.945413",
     "status": "completed"
    },
    "tags": [
     "change-false"
    ]
   },
   "outputs": [],
   "source": [
    "import matplotlib.pyplot as plt"
   ]
  },
  {
   "attachments": {},
   "cell_type": "markdown",
   "id": "696edd30-66a7-4055-80db-b9ea0b68ebbe",
   "metadata": {
    "papermill": {
     "duration": 0.004828,
     "end_time": "2024-04-10T10:49:46.491413",
     "exception": false,
     "start_time": "2024-04-10T10:49:46.486585",
     "status": "completed"
    },
    "tags": []
   },
   "source": [
    "### Pass data to scatter function"
   ]
  },
  {
   "cell_type": "code",
   "execution_count": 20,
   "id": "15c176fb-e94d-42dc-b2be-2fb7fc40c34d",
   "metadata": {
    "execution": {
     "iopub.execute_input": "2024-04-10T10:49:46.501995Z",
     "iopub.status.busy": "2024-04-10T10:49:46.501273Z",
     "iopub.status.idle": "2024-04-10T10:49:46.741075Z",
     "shell.execute_reply": "2024-04-10T10:49:46.740150Z"
    },
    "papermill": {
     "duration": 0.247637,
     "end_time": "2024-04-10T10:49:46.743199",
     "exception": false,
     "start_time": "2024-04-10T10:49:46.495562",
     "status": "completed"
    },
    "tags": []
   },
   "outputs": [
    {
     "data": {
      "text/plain": [
       "<matplotlib.collections.PathCollection at 0x7b85ac80bfd0>"
      ]
     },
     "execution_count": 20,
     "metadata": {},
     "output_type": "execute_result"
    },
    {
     "data": {
      "image/png": "[encoded data removed]",
      "text/plain": [
       "<Figure size 640x480 with 1 Axes>"
      ]
     },
     "metadata": {},
     "output_type": "display_data"
    }
   ],
   "source": [
    "plt.scatter(data=df,x='money_per_person',y='life_expectancy')"
   ]
  },
  {
   "cell_type": "markdown",
   "id": "b4b7ea61",
   "metadata": {},
   "source": [
    "---"
   ]
  },
  {
   "attachments": {},
   "cell_type": "markdown",
   "id": "f888721e",
   "metadata": {
    "papermill": {
     "duration": 0.006112,
     "end_time": "2024-04-10T10:49:46.774472",
     "exception": false,
     "start_time": "2024-04-10T10:49:46.768360",
     "status": "completed"
    },
    "tags": []
   },
   "source": [
    "### Change color to red"
   ]
  },
  {
   "cell_type": "code",
   "execution_count": 22,
   "id": "8d9d114c",
   "metadata": {
    "execution": {
     "iopub.execute_input": "2024-04-10T10:49:46.807061Z",
     "iopub.status.busy": "2024-04-10T10:49:46.806395Z",
     "iopub.status.idle": "2024-04-10T10:49:46.989374Z",
     "shell.execute_reply": "2024-04-10T10:49:46.988632Z"
    },
    "papermill": {
     "duration": 0.212109,
     "end_time": "2024-04-10T10:49:46.991350",
     "exception": false,
     "start_time": "2024-04-10T10:49:46.779241",
     "status": "completed"
    },
    "tags": []
   },
   "outputs": [
    {
     "data": {
      "text/plain": [
       "<matplotlib.collections.PathCollection at 0x7b85a5407910>"
      ]
     },
     "execution_count": 22,
     "metadata": {},
     "output_type": "execute_result"
    },
    {
     "data": {
      "image/png": "[encoded data removed]",
      "text/plain": [
       "<Figure size 640x480 with 1 Axes>"
      ]
     },
     "metadata": {},
     "output_type": "display_data"
    }
   ],
   "source": [
    "plt.scatter(data=df,x='money_per_person',y='life_expectancy', c='red')"
   ]
  },
  {
   "cell_type": "markdown",
   "id": "4d9fc12e",
   "metadata": {},
   "source": [
    "---"
   ]
  },
  {
   "attachments": {},
   "cell_type": "markdown",
   "id": "b77a460a",
   "metadata": {
    "papermill": {
     "duration": 0.005313,
     "end_time": "2024-04-10T10:49:47.002097",
     "exception": false,
     "start_time": "2024-04-10T10:49:46.996784",
     "status": "completed"
    },
    "tags": []
   },
   "source": [
    "Which row does each point represent? Can we place an interactive label?"
   ]
  },
  {
   "attachments": {},
   "cell_type": "markdown",
   "id": "584b4f45-3708-4195-818d-b539326ddd9a",
   "metadata": {
    "papermill": {
     "duration": 0.005789,
     "end_time": "2024-04-10T10:49:47.013290",
     "exception": false,
     "start_time": "2024-04-10T10:49:47.007501",
     "status": "completed"
    },
    "tags": []
   },
   "source": [
    "## Interactive scatter plot"
   ]
  },
  {
   "attachments": {},
   "cell_type": "markdown",
   "id": "808dce39-10e7-4ea0-9313-fc80150d46aa",
   "metadata": {
    "papermill": {
     "duration": 0.02569,
     "end_time": "2024-04-10T10:49:47.059226",
     "exception": false,
     "start_time": "2024-04-10T10:49:47.033536",
     "status": "completed"
    },
    "tags": []
   },
   "source": [
    "### Import plotly library"
   ]
  },
  {
   "cell_type": "code",
   "execution_count": 23,
   "id": "6e021ad1-c122-4650-ad5c-e3babe502ea1",
   "metadata": {
    "execution": {
     "iopub.execute_input": "2024-04-10T10:49:47.068590Z",
     "iopub.status.busy": "2024-04-10T10:49:47.068273Z",
     "iopub.status.idle": "2024-04-10T10:49:47.343864Z",
     "shell.execute_reply": "2024-04-10T10:49:47.343252Z"
    },
    "papermill": {
     "duration": 0.282248,
     "end_time": "2024-04-10T10:49:47.345576",
     "exception": false,
     "start_time": "2024-04-10T10:49:47.063328",
     "status": "completed"
    },
    "tags": [
     "change-false"
    ]
   },
   "outputs": [],
   "source": [
    "import plotly"
   ]
  },
  {
   "attachments": {},
   "cell_type": "markdown",
   "id": "1c01283e-40a3-44ad-8896-ba3c46bd12ae",
   "metadata": {
    "papermill": {
     "duration": 0.005138,
     "end_time": "2024-04-10T10:49:47.354859",
     "exception": false,
     "start_time": "2024-04-10T10:49:47.349721",
     "status": "completed"
    },
    "tags": []
   },
   "source": [
    "### Pass data to scatter function"
   ]
  },
  {
   "cell_type": "code",
   "execution_count": null,
   "id": "d6e07b7f-0b5a-48e9-bdf1-a93efd774488",
   "metadata": {
    "execution": {
     "iopub.execute_input": "2024-04-10T10:49:47.366202Z",
     "iopub.status.busy": "2024-04-10T10:49:47.365886Z",
     "iopub.status.idle": "2024-04-10T10:49:48.647350Z",
     "shell.execute_reply": "2024-04-10T10:49:48.646626Z"
    },
    "papermill": {
     "duration": 1.288505,
     "end_time": "2024-04-10T10:49:48.649105",
     "exception": false,
     "start_time": "2024-04-10T10:49:47.360600",
     "status": "completed"
    },
    "tags": []
   },
   "outputs": [],
   "source": []
  },
  {
   "attachments": {},
   "cell_type": "markdown",
   "id": "b23ace3b-9ddc-45f5-9dff-9352fcc4606a",
   "metadata": {
    "papermill": {
     "duration": 0.009096,
     "end_time": "2024-04-10T10:49:48.665756",
     "exception": false,
     "start_time": "2024-04-10T10:49:48.656660",
     "status": "completed"
    },
    "tags": []
   },
   "source": [
    "### Add names on hover"
   ]
  },
  {
   "cell_type": "code",
   "execution_count": null,
   "id": "f3939825-462c-4ca2-b591-e5c62d3c4e5b",
   "metadata": {
    "execution": {
     "iopub.execute_input": "2024-04-10T10:49:48.683240Z",
     "iopub.status.busy": "2024-04-10T10:49:48.682941Z",
     "iopub.status.idle": "2024-04-10T10:49:48.722060Z",
     "shell.execute_reply": "2024-04-10T10:49:48.721174Z"
    },
    "papermill": {
     "duration": 0.049365,
     "end_time": "2024-04-10T10:49:48.723781",
     "exception": false,
     "start_time": "2024-04-10T10:49:48.674416",
     "status": "completed"
    },
    "tags": []
   },
   "outputs": [],
   "source": []
  },
  {
   "cell_type": "markdown",
   "id": "f9c6eaa3",
   "metadata": {},
   "source": [
    "---"
   ]
  },
  {
   "attachments": {},
   "cell_type": "markdown",
   "id": "25094809-d8df-4e35-9db2-1263e01175c2",
   "metadata": {
    "papermill": {
     "duration": 0.009709,
     "end_time": "2024-04-10T10:49:48.742769",
     "exception": false,
     "start_time": "2024-04-10T10:49:48.733060",
     "status": "completed"
    },
    "tags": []
   },
   "source": [
    "## Bonus: Linear regression\n",
    "\n",
    "Use the `trendline` parameter to add a linear regression line to the scatter plot."
   ]
  },
  {
   "cell_type": "code",
   "execution_count": null,
   "id": "071d4e81",
   "metadata": {
    "execution": {
     "iopub.execute_input": "2024-04-10T10:49:48.765819Z",
     "iopub.status.busy": "2024-04-10T10:49:48.765479Z",
     "iopub.status.idle": "2024-04-10T10:49:51.017159Z",
     "shell.execute_reply": "2024-04-10T10:49:51.016079Z"
    },
    "papermill": {
     "duration": 2.266465,
     "end_time": "2024-04-10T10:49:51.019670",
     "exception": false,
     "start_time": "2024-04-10T10:49:48.753205",
     "status": "completed"
    },
    "tags": []
   },
   "outputs": [],
   "source": []
  }
 ],
 "metadata": {
  "kernelspec": {
   "display_name": "Python 3 (ipykernel)",
   "language": "python",
   "name": "python3"
  },
  "language_info": {
   "codemirror_mode": {
    "name": "ipython",
    "version": 3
   },
   "file_extension": ".py",
   "mimetype": "text/x-python",
   "name": "python",
   "nbconvert_exporter": "python",
   "pygments_lexer": "ipython3",
   "version": "3.10.13"
  },
  "papermill": {
   "default_parameters": {},
   "duration": 7.622182,
   "end_time": "2024-04-10T10:49:51.674415",
   "environment_variables": {},
   "exception": null,
   "input_path": "/Users/sota/Dropbox/2 Business/2 Areas/datons.academy/2 Areas/Products/Digital Courses/DAV/course-maven/solutions/notebooks/20_Data Visualization/21_Bivariate/B.ipynb",
   "output_path": "/Users/sota/Dropbox/2 Business/2 Areas/datons.academy/2 Areas/Products/Digital Courses/DAV/course-maven/solutions/notebooks/20_Data Visualization/21_Bivariate/B.ipynb",
   "parameters": {},
   "start_time": "2024-04-10T10:49:44.052233",
   "version": "2.5.0"
  }
 },
 "nbformat": 4,
 "nbformat_minor": 5
}
