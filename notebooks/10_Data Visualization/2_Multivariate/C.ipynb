{
 "cells": [
  {
   "attachments": {},
   "cell_type": "markdown",
   "id": "61591a5c",
   "metadata": {
    "papermill": {
     "duration": 0.004774,
     "end_time": "2024-04-10T10:50:01.076517",
     "exception": false,
     "start_time": "2024-04-10T10:50:01.071743",
     "status": "completed"
    },
    "tags": []
   },
   "source": [
    "# Optimal Data Visualization"
   ]
  },
  {
   "attachments": {},
   "cell_type": "markdown",
   "id": "c84ce2df",
   "metadata": {
    "papermill": {
     "duration": 0.004631,
     "end_time": "2024-04-10T10:50:01.085650",
     "exception": false,
     "start_time": "2024-04-10T10:50:01.081019",
     "status": "completed"
    },
    "tags": []
   },
   "source": [
    "## Data"
   ]
  },
  {
   "cell_type": "code",
   "execution_count": null,
   "id": "7e77481b",
   "metadata": {
    "execution": {
     "iopub.execute_input": "2024-04-10T10:50:01.099822Z",
     "iopub.status.busy": "2024-04-10T10:50:01.099413Z",
     "iopub.status.idle": "2024-04-10T10:50:01.925362Z",
     "shell.execute_reply": "2024-04-10T10:50:01.924634Z"
    },
    "papermill": {
     "duration": 0.835035,
     "end_time": "2024-04-10T10:50:01.927162",
     "exception": false,
     "start_time": "2024-04-10T10:50:01.092127",
     "status": "completed"
    },
    "tags": []
   },
   "outputs": [],
   "source": []
  },
  {
   "attachments": {},
   "cell_type": "markdown",
   "id": "25fcb628",
   "metadata": {
    "papermill": {
     "duration": 0.004327,
     "end_time": "2024-04-10T10:50:01.936076",
     "exception": false,
     "start_time": "2024-04-10T10:50:01.931749",
     "status": "completed"
    },
    "tags": []
   },
   "source": [
    "## Create data visualization"
   ]
  },
  {
   "attachments": {},
   "cell_type": "markdown",
   "id": "1bbebda9",
   "metadata": {
    "papermill": {
     "duration": 0.004083,
     "end_time": "2024-04-10T10:50:01.944949",
     "exception": false,
     "start_time": "2024-04-10T10:50:01.940866",
     "status": "completed"
    },
    "tags": []
   },
   "source": [
    "### Import plotly library"
   ]
  },
  {
   "cell_type": "code",
   "execution_count": null,
   "id": "35698252",
   "metadata": {
    "execution": {
     "iopub.execute_input": "2024-04-10T10:50:01.954128Z",
     "iopub.status.busy": "2024-04-10T10:50:01.953790Z",
     "iopub.status.idle": "2024-04-10T10:50:02.162007Z",
     "shell.execute_reply": "2024-04-10T10:50:02.161361Z"
    },
    "papermill": {
     "duration": 0.214922,
     "end_time": "2024-04-10T10:50:02.163708",
     "exception": false,
     "start_time": "2024-04-10T10:50:01.948786",
     "status": "completed"
    },
    "tags": []
   },
   "outputs": [],
   "source": []
  },
  {
   "attachments": {},
   "cell_type": "markdown",
   "id": "0624a8e0",
   "metadata": {
    "papermill": {
     "duration": 0.004492,
     "end_time": "2024-04-10T10:50:02.172467",
     "exception": false,
     "start_time": "2024-04-10T10:50:02.167975",
     "status": "completed"
    },
    "tags": []
   },
   "source": [
    "### Create scatter plot\n",
    "\n",
    "Represent the relationship between two **numerical** variables."
   ]
  },
  {
   "cell_type": "code",
   "execution_count": null,
   "id": "5be8bd21",
   "metadata": {
    "execution": {
     "iopub.execute_input": "2024-04-10T10:50:02.182978Z",
     "iopub.status.busy": "2024-04-10T10:50:02.182610Z",
     "iopub.status.idle": "2024-04-10T10:50:03.029377Z",
     "shell.execute_reply": "2024-04-10T10:50:03.028590Z"
    },
    "papermill": {
     "duration": 0.854577,
     "end_time": "2024-04-10T10:50:03.031262",
     "exception": false,
     "start_time": "2024-04-10T10:50:02.176685",
     "status": "completed"
    },
    "tags": []
   },
   "outputs": [],
   "source": []
  },
  {
   "attachments": {},
   "cell_type": "markdown",
   "id": "fa23bf09",
   "metadata": {
    "papermill": {
     "duration": 0.008758,
     "end_time": "2024-04-10T10:50:03.048269",
     "exception": false,
     "start_time": "2024-04-10T10:50:03.039511",
     "status": "completed"
    },
    "tags": []
   },
   "source": [
    "### Change the color"
   ]
  },
  {
   "cell_type": "code",
   "execution_count": null,
   "id": "9122bf11",
   "metadata": {
    "execution": {
     "iopub.execute_input": "2024-04-10T10:50:03.082092Z",
     "iopub.status.busy": "2024-04-10T10:50:03.081802Z",
     "iopub.status.idle": "2024-04-10T10:50:03.141126Z",
     "shell.execute_reply": "2024-04-10T10:50:03.140493Z"
    },
    "papermill": {
     "duration": 0.083815,
     "end_time": "2024-04-10T10:50:03.142955",
     "exception": false,
     "start_time": "2024-04-10T10:50:03.059140",
     "status": "completed"
    },
    "tags": []
   },
   "outputs": [],
   "source": []
  },
  {
   "cell_type": "markdown",
   "id": "45496e89",
   "metadata": {},
   "source": [
    "---"
   ]
  },
  {
   "attachments": {},
   "cell_type": "markdown",
   "id": "83af6198",
   "metadata": {
    "papermill": {
     "duration": 0.025074,
     "end_time": "2024-04-10T10:50:03.182012",
     "exception": false,
     "start_time": "2024-04-10T10:50:03.156938",
     "status": "completed"
    },
    "tags": []
   },
   "source": [
    "### Change the size"
   ]
  },
  {
   "cell_type": "code",
   "execution_count": null,
   "id": "b699de17",
   "metadata": {
    "execution": {
     "iopub.execute_input": "2024-04-10T10:50:03.206178Z",
     "iopub.status.busy": "2024-04-10T10:50:03.205746Z",
     "iopub.status.idle": "2024-04-10T10:50:03.262577Z",
     "shell.execute_reply": "2024-04-10T10:50:03.261801Z"
    },
    "papermill": {
     "duration": 0.070984,
     "end_time": "2024-04-10T10:50:03.264706",
     "exception": false,
     "start_time": "2024-04-10T10:50:03.193722",
     "status": "completed"
    },
    "tags": []
   },
   "outputs": [],
   "source": []
  },
  {
   "attachments": {},
   "cell_type": "markdown",
   "id": "87ad6f9e",
   "metadata": {
    "papermill": {
     "duration": 0.02459,
     "end_time": "2024-04-10T10:50:03.307950",
     "exception": false,
     "start_time": "2024-04-10T10:50:03.283360",
     "status": "completed"
    },
    "tags": []
   },
   "source": [
    "### Show point name on hover"
   ]
  },
  {
   "cell_type": "code",
   "execution_count": null,
   "id": "156d0e96",
   "metadata": {
    "execution": {
     "iopub.execute_input": "2024-04-10T10:50:03.360303Z",
     "iopub.status.busy": "2024-04-10T10:50:03.359798Z",
     "iopub.status.idle": "2024-04-10T10:50:03.414623Z",
     "shell.execute_reply": "2024-04-10T10:50:03.414004Z"
    },
    "papermill": {
     "duration": 0.079469,
     "end_time": "2024-04-10T10:50:03.416404",
     "exception": false,
     "start_time": "2024-04-10T10:50:03.336935",
     "status": "completed"
    },
    "tags": []
   },
   "outputs": [],
   "source": []
  },
  {
   "attachments": {},
   "cell_type": "markdown",
   "id": "b87c48b7",
   "metadata": {
    "papermill": {
     "duration": 0.021584,
     "end_time": "2024-04-10T10:50:03.456959",
     "exception": false,
     "start_time": "2024-04-10T10:50:03.435375",
     "status": "completed"
    },
    "tags": []
   },
   "source": [
    "### Create multiple facets"
   ]
  },
  {
   "cell_type": "code",
   "execution_count": null,
   "id": "6ad32529",
   "metadata": {
    "execution": {
     "iopub.execute_input": "2024-04-10T10:50:03.516321Z",
     "iopub.status.busy": "2024-04-10T10:50:03.516025Z",
     "iopub.status.idle": "2024-04-10T10:50:03.609576Z",
     "shell.execute_reply": "2024-04-10T10:50:03.608723Z"
    },
    "papermill": {
     "duration": 0.125128,
     "end_time": "2024-04-10T10:50:03.611206",
     "exception": false,
     "start_time": "2024-04-10T10:50:03.486078",
     "status": "completed"
    },
    "tags": []
   },
   "outputs": [],
   "source": []
  },
  {
   "attachments": {},
   "cell_type": "markdown",
   "id": "e4ae8b31",
   "metadata": {
    "papermill": {
     "duration": 0.027729,
     "end_time": "2024-04-10T10:50:03.661925",
     "exception": false,
     "start_time": "2024-04-10T10:50:03.634196",
     "status": "completed"
    },
    "tags": []
   },
   "source": [
    "## Data Analysis\n",
    "\n",
    "Based on visual observation, answer the following questions:"
   ]
  },
  {
   "attachments": {},
   "cell_type": "markdown",
   "id": "976182c7",
   "metadata": {
    "papermill": {
     "duration": 0.024984,
     "end_time": "2024-04-10T10:50:03.710932",
     "exception": false,
     "start_time": "2024-04-10T10:50:03.685948",
     "status": "completed"
    },
    "tags": []
   },
   "source": [
    "### Which observation represents the biggest point?"
   ]
  },
  {
   "attachments": {},
   "cell_type": "markdown",
   "id": "120e68ca",
   "metadata": {
    "papermill": {
     "duration": 0.025427,
     "end_time": "2024-04-10T10:50:03.809394",
     "exception": false,
     "start_time": "2024-04-10T10:50:03.783967",
     "status": "completed"
    },
    "tags": []
   },
   "source": [
    "### Which point is the furthest in the x-axis?"
   ]
  },
  {
   "attachments": {},
   "cell_type": "markdown",
   "id": "5ba686bb",
   "metadata": {
    "papermill": {
     "duration": 0.027951,
     "end_time": "2024-04-10T10:50:03.913240",
     "exception": false,
     "start_time": "2024-04-10T10:50:03.885289",
     "status": "completed"
    },
    "tags": []
   },
   "source": [
    "### Which point is the furthest in the y-axis?"
   ]
  },
  {
   "cell_type": "markdown",
   "id": "398d3ccc",
   "metadata": {},
   "source": [
    "---"
   ]
  },
  {
   "attachments": {},
   "cell_type": "markdown",
   "id": "1b9b99a0",
   "metadata": {
    "papermill": {
     "duration": 0.02618,
     "end_time": "2024-04-10T10:50:04.038308",
     "exception": false,
     "start_time": "2024-04-10T10:50:04.012128",
     "status": "completed"
    },
    "tags": []
   },
   "source": [
    "## Bonus: More data visualization\n",
    "\n",
    "See more interactive data visualization examples at:\n",
    "\n",
    "https://plotly.com/python/plotly-express/\n",
    "\n",
    "Copy paste the code and run it in your local environment."
   ]
  },
  {
   "cell_type": "code",
   "execution_count": null,
   "id": "8c1d6472",
   "metadata": {
    "execution": {
     "iopub.execute_input": "2024-04-10T10:50:04.109699Z",
     "iopub.status.busy": "2024-04-10T10:50:04.109458Z",
     "iopub.status.idle": "2024-04-10T10:50:04.217245Z",
     "shell.execute_reply": "2024-04-10T10:50:04.216758Z"
    },
    "papermill": {
     "duration": 0.13787,
     "end_time": "2024-04-10T10:50:04.222564",
     "exception": false,
     "start_time": "2024-04-10T10:50:04.084694",
     "status": "completed"
    },
    "tags": []
   },
   "outputs": [],
   "source": []
  }
 ],
 "metadata": {
  "kernelspec": {
   "display_name": "work",
   "language": "python",
   "name": "python3"
  },
  "language_info": {
   "codemirror_mode": {
    "name": "ipython",
    "version": 3
   },
   "file_extension": ".py",
   "mimetype": "text/x-python",
   "name": "python",
   "nbconvert_exporter": "python",
   "pygments_lexer": "ipython3",
   "version": "3.12.0"
  },
  "papermill": {
   "default_parameters": {},
   "duration": 4.913752,
   "end_time": "2024-04-10T10:50:04.702143",
   "environment_variables": {},
   "exception": null,
   "input_path": "/Users/sota/Dropbox/2 Business/2 Areas/datons.academy/2 Areas/Products/Digital Courses/DAV/course-maven/solutions/notebooks/20_Data Visualization/22_Multivariate/B.ipynb",
   "output_path": "/Users/sota/Dropbox/2 Business/2 Areas/datons.academy/2 Areas/Products/Digital Courses/DAV/course-maven/solutions/notebooks/20_Data Visualization/22_Multivariate/B.ipynb",
   "parameters": {
    "path_notebook": "/Users/sota/Dropbox/2 Business/2 Areas/datons.academy/2 Areas/Products/Digital Courses/02_Done/01_Data Science/01 Resolving Python for Data Analysis & Visualization/Materials/course-maven/solutions"
   },
   "start_time": "2024-04-10T10:49:59.788391",
   "version": "2.5.0"
  }
 },
 "nbformat": 4,
 "nbformat_minor": 5
}
