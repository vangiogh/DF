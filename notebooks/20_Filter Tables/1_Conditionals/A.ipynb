{
 "cells": [
  {
   "attachments": {},
   "cell_type": "markdown",
   "id": "af45ec80",
   "metadata": {
    "papermill": {
     "duration": 0.011712,
     "end_time": "2024-04-10T10:53:44.061002",
     "exception": false,
     "start_time": "2024-04-10T10:53:44.049290",
     "status": "completed"
    },
    "tags": []
   },
   "source": [
    "# Filtering the pandas.DataFrame with boolean arrays (masks)"
   ]
  },
  {
   "cell_type": "markdown",
   "id": "4e677e0b",
   "metadata": {},
   "source": [
    "[**See `filter` instructions**](https://datons.craft.me/h3f5pSQSE7l6RW) to complete the following exercises."
   ]
  },
  {
   "attachments": {},
   "cell_type": "markdown",
   "id": "8d467787-3573-434d-8c63-bab5d035882e",
   "metadata": {
    "papermill": {
     "duration": 0.022744,
     "end_time": "2024-04-10T10:53:44.089169",
     "exception": false,
     "start_time": "2024-04-10T10:53:44.066425",
     "status": "completed"
    },
    "tags": []
   },
   "source": [
    "## Data"
   ]
  },
  {
   "cell_type": "code",
   "execution_count": 1,
   "id": "71b1a87c-deb5-49cf-9ce6-cdcd24977293",
   "metadata": {
    "execution": {
     "iopub.execute_input": "2024-04-10T10:53:44.117600Z",
     "iopub.status.busy": "2024-04-10T10:53:44.117329Z",
     "iopub.status.idle": "2024-04-10T10:53:44.545464Z",
     "shell.execute_reply": "2024-04-10T10:53:44.544952Z"
    },
    "papermill": {
     "duration": 0.4531,
     "end_time": "2024-04-10T10:53:44.547427",
     "exception": false,
     "start_time": "2024-04-10T10:53:44.094327",
     "status": "completed"
    },
    "tags": [
     "change-false"
    ]
   },
   "outputs": [
    {
     "data": {
      "text/html": [
       "<div>\n",
       "<style scoped>\n",
       "    .dataframe tbody tr th:only-of-type {\n",
       "        vertical-align: middle;\n",
       "    }\n",
       "\n",
       "    .dataframe tbody tr th {\n",
       "        vertical-align: top;\n",
       "    }\n",
       "\n",
       "    .dataframe thead th {\n",
       "        text-align: right;\n",
       "    }\n",
       "</style>\n",
       "<table border=\"1\" class=\"dataframe\">\n",
       "  <thead>\n",
       "    <tr style=\"text-align: right;\">\n",
       "      <th></th>\n",
       "      <th>continent</th>\n",
       "      <th>year</th>\n",
       "      <th>lifeExp</th>\n",
       "      <th>pop</th>\n",
       "      <th>gdpPercap</th>\n",
       "      <th>iso_alpha</th>\n",
       "      <th>iso_num</th>\n",
       "    </tr>\n",
       "    <tr>\n",
       "      <th>country</th>\n",
       "      <th></th>\n",
       "      <th></th>\n",
       "      <th></th>\n",
       "      <th></th>\n",
       "      <th></th>\n",
       "      <th></th>\n",
       "      <th></th>\n",
       "    </tr>\n",
       "  </thead>\n",
       "  <tbody>\n",
       "    <tr>\n",
       "      <th>Afghanistan</th>\n",
       "      <td>Asia</td>\n",
       "      <td>2007</td>\n",
       "      <td>43.828</td>\n",
       "      <td>31889923</td>\n",
       "      <td>974.580338</td>\n",
       "      <td>AFG</td>\n",
       "      <td>4</td>\n",
       "    </tr>\n",
       "    <tr>\n",
       "      <th>Albania</th>\n",
       "      <td>Europe</td>\n",
       "      <td>2007</td>\n",
       "      <td>76.423</td>\n",
       "      <td>3600523</td>\n",
       "      <td>5937.029526</td>\n",
       "      <td>ALB</td>\n",
       "      <td>8</td>\n",
       "    </tr>\n",
       "    <tr>\n",
       "      <th>...</th>\n",
       "      <td>...</td>\n",
       "      <td>...</td>\n",
       "      <td>...</td>\n",
       "      <td>...</td>\n",
       "      <td>...</td>\n",
       "      <td>...</td>\n",
       "      <td>...</td>\n",
       "    </tr>\n",
       "    <tr>\n",
       "      <th>Zambia</th>\n",
       "      <td>Africa</td>\n",
       "      <td>2007</td>\n",
       "      <td>42.384</td>\n",
       "      <td>11746035</td>\n",
       "      <td>1271.211593</td>\n",
       "      <td>ZMB</td>\n",
       "      <td>894</td>\n",
       "    </tr>\n",
       "    <tr>\n",
       "      <th>Zimbabwe</th>\n",
       "      <td>Africa</td>\n",
       "      <td>2007</td>\n",
       "      <td>43.487</td>\n",
       "      <td>12311143</td>\n",
       "      <td>469.709298</td>\n",
       "      <td>ZWE</td>\n",
       "      <td>716</td>\n",
       "    </tr>\n",
       "  </tbody>\n",
       "</table>\n",
       "<p>142 rows × 7 columns</p>\n",
       "</div>"
      ],
      "text/plain": [
       "            continent  year  lifeExp       pop    gdpPercap iso_alpha  iso_num\n",
       "country                                                                       \n",
       "Afghanistan      Asia  2007   43.828  31889923   974.580338       AFG        4\n",
       "Albania        Europe  2007   76.423   3600523  5937.029526       ALB        8\n",
       "...               ...   ...      ...       ...          ...       ...      ...\n",
       "Zambia         Africa  2007   42.384  11746035  1271.211593       ZMB      894\n",
       "Zimbabwe       Africa  2007   43.487  12311143   469.709298       ZWE      716\n",
       "\n",
       "[142 rows x 7 columns]"
      ]
     },
     "execution_count": 1,
     "metadata": {},
     "output_type": "execute_result"
    }
   ],
   "source": [
    "import pandas as pd\n",
    "\n",
    "df_countries = pd.read_csv('data/gapminder.csv', index_col=0)\n",
    "df_countries"
   ]
  },
  {
   "attachments": {},
   "cell_type": "markdown",
   "id": "d690d766",
   "metadata": {
    "papermill": {
     "duration": 0.004573,
     "end_time": "2024-04-10T10:53:44.565066",
     "exception": false,
     "start_time": "2024-04-10T10:53:44.560493",
     "status": "completed"
    },
    "tags": []
   },
   "source": [
    "## Single condition"
   ]
  },
  {
   "attachments": {},
   "cell_type": "markdown",
   "id": "0d58c78c",
   "metadata": {
    "papermill": {
     "duration": 0.00381,
     "end_time": "2024-04-10T10:53:44.574120",
     "exception": false,
     "start_time": "2024-04-10T10:53:44.570310",
     "status": "completed"
    },
    "tags": [
     "custom-exercise"
    ]
   },
   "source": [
    "**Exercise**: Filter countries from `Asia`."
   ]
  },
  {
   "attachments": {},
   "cell_type": "markdown",
   "id": "94156b84",
   "metadata": {
    "papermill": {
     "duration": 0.003616,
     "end_time": "2024-04-10T10:53:44.581315",
     "exception": false,
     "start_time": "2024-04-10T10:53:44.577699",
     "status": "completed"
    },
    "tags": []
   },
   "source": [
    "### Categorical"
   ]
  },
  {
   "attachments": {},
   "cell_type": "markdown",
   "id": "5c5d9c74-5ab1-4161-b41d-225ea75f0a75",
   "metadata": {
    "papermill": {
     "duration": 0.003276,
     "end_time": "2024-04-10T10:53:44.587887",
     "exception": false,
     "start_time": "2024-04-10T10:53:44.584611",
     "status": "completed"
    },
    "tags": []
   },
   "source": [
    "#### Create mask\n",
    "\n",
    "```python\n",
    "mask = df['column'] == 'value'\n",
    "```"
   ]
  },
  {
   "cell_type": "code",
   "execution_count": null,
   "id": "566d6233-f520-4da4-bb8d-529f4279af31",
   "metadata": {
    "execution": {
     "iopub.execute_input": "2024-04-10T10:53:44.596525Z",
     "iopub.status.busy": "2024-04-10T10:53:44.596243Z",
     "iopub.status.idle": "2024-04-10T10:53:44.603290Z",
     "shell.execute_reply": "2024-04-10T10:53:44.602636Z"
    },
    "papermill": {
     "duration": 0.013601,
     "end_time": "2024-04-10T10:53:44.605026",
     "exception": false,
     "start_time": "2024-04-10T10:53:44.591425",
     "status": "completed"
    },
    "tags": []
   },
   "outputs": [
    {
     "data": {
      "text/plain": [
       "country\n",
       "Afghanistan     True\n",
       "Albania        False\n",
       "               ...  \n",
       "Zambia         False\n",
       "Zimbabwe       False\n",
       "Name: continent, Length: 142, dtype: bool"
      ]
     },
     "execution_count": null,
     "metadata": {},
     "output_type": "execute_result"
    }
   ],
   "source": []
  },
  {
   "attachments": {},
   "cell_type": "markdown",
   "id": "c6cb5e69-eb96-4a8a-8d25-3d473b7f06eb",
   "metadata": {
    "papermill": {
     "duration": 0.003665,
     "end_time": "2024-04-10T10:53:44.613041",
     "exception": false,
     "start_time": "2024-04-10T10:53:44.609376",
     "status": "completed"
    },
    "tags": []
   },
   "source": [
    "#### Filter DataFrame with mask\n",
    "\n",
    "```python\n",
    "df[mask]\n",
    "```"
   ]
  },
  {
   "cell_type": "code",
   "execution_count": null,
   "id": "ad10ab90-208f-4b85-93d1-edab7ab18ee2",
   "metadata": {
    "execution": {
     "iopub.execute_input": "2024-04-10T10:53:44.622330Z",
     "iopub.status.busy": "2024-04-10T10:53:44.622083Z",
     "iopub.status.idle": "2024-04-10T10:53:44.635136Z",
     "shell.execute_reply": "2024-04-10T10:53:44.634503Z"
    },
    "papermill": {
     "duration": 0.019382,
     "end_time": "2024-04-10T10:53:44.636710",
     "exception": false,
     "start_time": "2024-04-10T10:53:44.617328",
     "status": "completed"
    },
    "tags": []
   },
   "outputs": [
    {
     "data": {
      "text/html": [
       "<div>\n",
       "<style scoped>\n",
       "    .dataframe tbody tr th:only-of-type {\n",
       "        vertical-align: middle;\n",
       "    }\n",
       "\n",
       "    .dataframe tbody tr th {\n",
       "        vertical-align: top;\n",
       "    }\n",
       "\n",
       "    .dataframe thead th {\n",
       "        text-align: right;\n",
       "    }\n",
       "</style>\n",
       "<table border=\"1\" class=\"dataframe\">\n",
       "  <thead>\n",
       "    <tr style=\"text-align: right;\">\n",
       "      <th></th>\n",
       "      <th>continent</th>\n",
       "      <th>year</th>\n",
       "      <th>lifeExp</th>\n",
       "      <th>pop</th>\n",
       "      <th>gdpPercap</th>\n",
       "      <th>iso_alpha</th>\n",
       "      <th>iso_num</th>\n",
       "    </tr>\n",
       "    <tr>\n",
       "      <th>country</th>\n",
       "      <th></th>\n",
       "      <th></th>\n",
       "      <th></th>\n",
       "      <th></th>\n",
       "      <th></th>\n",
       "      <th></th>\n",
       "      <th></th>\n",
       "    </tr>\n",
       "  </thead>\n",
       "  <tbody>\n",
       "    <tr>\n",
       "      <th>Afghanistan</th>\n",
       "      <td>Asia</td>\n",
       "      <td>2007</td>\n",
       "      <td>43.828</td>\n",
       "      <td>31889923</td>\n",
       "      <td>974.580338</td>\n",
       "      <td>AFG</td>\n",
       "      <td>4</td>\n",
       "    </tr>\n",
       "    <tr>\n",
       "      <th>Bahrain</th>\n",
       "      <td>Asia</td>\n",
       "      <td>2007</td>\n",
       "      <td>75.635</td>\n",
       "      <td>708573</td>\n",
       "      <td>29796.048340</td>\n",
       "      <td>BHR</td>\n",
       "      <td>48</td>\n",
       "    </tr>\n",
       "    <tr>\n",
       "      <th>...</th>\n",
       "      <td>...</td>\n",
       "      <td>...</td>\n",
       "      <td>...</td>\n",
       "      <td>...</td>\n",
       "      <td>...</td>\n",
       "      <td>...</td>\n",
       "      <td>...</td>\n",
       "    </tr>\n",
       "    <tr>\n",
       "      <th>West Bank and Gaza</th>\n",
       "      <td>Asia</td>\n",
       "      <td>2007</td>\n",
       "      <td>73.422</td>\n",
       "      <td>4018332</td>\n",
       "      <td>3025.349798</td>\n",
       "      <td>PSE</td>\n",
       "      <td>275</td>\n",
       "    </tr>\n",
       "    <tr>\n",
       "      <th>Yemen, Rep.</th>\n",
       "      <td>Asia</td>\n",
       "      <td>2007</td>\n",
       "      <td>62.698</td>\n",
       "      <td>22211743</td>\n",
       "      <td>2280.769906</td>\n",
       "      <td>YEM</td>\n",
       "      <td>887</td>\n",
       "    </tr>\n",
       "  </tbody>\n",
       "</table>\n",
       "<p>33 rows × 7 columns</p>\n",
       "</div>"
      ],
      "text/plain": [
       "                   continent  year  lifeExp       pop     gdpPercap iso_alpha  \\\n",
       "country                                                                         \n",
       "Afghanistan             Asia  2007   43.828  31889923    974.580338       AFG   \n",
       "Bahrain                 Asia  2007   75.635    708573  29796.048340       BHR   \n",
       "...                      ...   ...      ...       ...           ...       ...   \n",
       "West Bank and Gaza      Asia  2007   73.422   4018332   3025.349798       PSE   \n",
       "Yemen, Rep.             Asia  2007   62.698  22211743   2280.769906       YEM   \n",
       "\n",
       "                    iso_num  \n",
       "country                      \n",
       "Afghanistan               4  \n",
       "Bahrain                  48  \n",
       "...                     ...  \n",
       "West Bank and Gaza      275  \n",
       "Yemen, Rep.             887  \n",
       "\n",
       "[33 rows x 7 columns]"
      ]
     },
     "execution_count": null,
     "metadata": {},
     "output_type": "execute_result"
    }
   ],
   "source": []
  },
  {
   "attachments": {},
   "cell_type": "markdown",
   "id": "cc41b25c-c927-4ca6-89e5-2cb1bf6f6cb6",
   "metadata": {
    "papermill": {
     "duration": 0.004269,
     "end_time": "2024-04-10T10:53:44.644969",
     "exception": false,
     "start_time": "2024-04-10T10:53:44.640700",
     "status": "completed"
    },
    "tags": []
   },
   "source": [
    "### Numerical"
   ]
  },
  {
   "attachments": {},
   "cell_type": "markdown",
   "id": "9f9b3a3a",
   "metadata": {
    "papermill": {
     "duration": 0.003875,
     "end_time": "2024-04-10T10:53:44.652681",
     "exception": false,
     "start_time": "2024-04-10T10:53:44.648806",
     "status": "completed"
    },
    "tags": [
     "custom-exercise"
    ]
   },
   "source": [
    "**Exercise**: Filter countries with `lifeExp greater than 80` years old."
   ]
  },
  {
   "attachments": {},
   "cell_type": "markdown",
   "id": "86e76ce8",
   "metadata": {
    "papermill": {
     "duration": 0.005656,
     "end_time": "2024-04-10T10:53:44.662813",
     "exception": false,
     "start_time": "2024-04-10T10:53:44.657157",
     "status": "completed"
    },
    "tags": []
   },
   "source": [
    "#### Create mask\n",
    "\n",
    "```python\n",
    "mask = df['column'] > number\n",
    "```"
   ]
  },
  {
   "cell_type": "code",
   "execution_count": null,
   "id": "18804da2",
   "metadata": {
    "execution": {
     "iopub.execute_input": "2024-04-10T10:53:44.673088Z",
     "iopub.status.busy": "2024-04-10T10:53:44.672618Z",
     "iopub.status.idle": "2024-04-10T10:53:44.677717Z",
     "shell.execute_reply": "2024-04-10T10:53:44.677230Z"
    },
    "papermill": {
     "duration": 0.01137,
     "end_time": "2024-04-10T10:53:44.679174",
     "exception": false,
     "start_time": "2024-04-10T10:53:44.667804",
     "status": "completed"
    },
    "tags": []
   },
   "outputs": [
    {
     "data": {
      "text/plain": [
       "country\n",
       "Afghanistan    False\n",
       "Albania        False\n",
       "               ...  \n",
       "Zambia         False\n",
       "Zimbabwe       False\n",
       "Name: lifeExp, Length: 142, dtype: bool"
      ]
     },
     "execution_count": null,
     "metadata": {},
     "output_type": "execute_result"
    }
   ],
   "source": []
  },
  {
   "attachments": {},
   "cell_type": "markdown",
   "id": "317a5903",
   "metadata": {
    "papermill": {
     "duration": 0.004226,
     "end_time": "2024-04-10T10:53:44.687598",
     "exception": false,
     "start_time": "2024-04-10T10:53:44.683372",
     "status": "completed"
    },
    "tags": []
   },
   "source": [
    "#### Filter DataFrame with mask\n",
    "\n",
    "```python\n",
    "df[mask]\n",
    "```"
   ]
  },
  {
   "cell_type": "code",
   "execution_count": null,
   "id": "5d18df84",
   "metadata": {
    "execution": {
     "iopub.execute_input": "2024-04-10T10:53:44.697348Z",
     "iopub.status.busy": "2024-04-10T10:53:44.697106Z",
     "iopub.status.idle": "2024-04-10T10:53:44.706770Z",
     "shell.execute_reply": "2024-04-10T10:53:44.706173Z"
    },
    "papermill": {
     "duration": 0.017588,
     "end_time": "2024-04-10T10:53:44.708945",
     "exception": false,
     "start_time": "2024-04-10T10:53:44.691357",
     "status": "completed"
    },
    "tags": []
   },
   "outputs": [
    {
     "data": {
      "text/html": [
       "<div>\n",
       "<style scoped>\n",
       "    .dataframe tbody tr th:only-of-type {\n",
       "        vertical-align: middle;\n",
       "    }\n",
       "\n",
       "    .dataframe tbody tr th {\n",
       "        vertical-align: top;\n",
       "    }\n",
       "\n",
       "    .dataframe thead th {\n",
       "        text-align: right;\n",
       "    }\n",
       "</style>\n",
       "<table border=\"1\" class=\"dataframe\">\n",
       "  <thead>\n",
       "    <tr style=\"text-align: right;\">\n",
       "      <th></th>\n",
       "      <th>continent</th>\n",
       "      <th>year</th>\n",
       "      <th>lifeExp</th>\n",
       "      <th>pop</th>\n",
       "      <th>gdpPercap</th>\n",
       "      <th>iso_alpha</th>\n",
       "      <th>iso_num</th>\n",
       "    </tr>\n",
       "    <tr>\n",
       "      <th>country</th>\n",
       "      <th></th>\n",
       "      <th></th>\n",
       "      <th></th>\n",
       "      <th></th>\n",
       "      <th></th>\n",
       "      <th></th>\n",
       "      <th></th>\n",
       "    </tr>\n",
       "  </thead>\n",
       "  <tbody>\n",
       "    <tr>\n",
       "      <th>Australia</th>\n",
       "      <td>Oceania</td>\n",
       "      <td>2007</td>\n",
       "      <td>81.235</td>\n",
       "      <td>20434176</td>\n",
       "      <td>34435.36744</td>\n",
       "      <td>AUS</td>\n",
       "      <td>36</td>\n",
       "    </tr>\n",
       "    <tr>\n",
       "      <th>Canada</th>\n",
       "      <td>Americas</td>\n",
       "      <td>2007</td>\n",
       "      <td>80.653</td>\n",
       "      <td>33390141</td>\n",
       "      <td>36319.23501</td>\n",
       "      <td>CAN</td>\n",
       "      <td>124</td>\n",
       "    </tr>\n",
       "    <tr>\n",
       "      <th>...</th>\n",
       "      <td>...</td>\n",
       "      <td>...</td>\n",
       "      <td>...</td>\n",
       "      <td>...</td>\n",
       "      <td>...</td>\n",
       "      <td>...</td>\n",
       "      <td>...</td>\n",
       "    </tr>\n",
       "    <tr>\n",
       "      <th>Sweden</th>\n",
       "      <td>Europe</td>\n",
       "      <td>2007</td>\n",
       "      <td>80.884</td>\n",
       "      <td>9031088</td>\n",
       "      <td>33859.74835</td>\n",
       "      <td>SWE</td>\n",
       "      <td>752</td>\n",
       "    </tr>\n",
       "    <tr>\n",
       "      <th>Switzerland</th>\n",
       "      <td>Europe</td>\n",
       "      <td>2007</td>\n",
       "      <td>81.701</td>\n",
       "      <td>7554661</td>\n",
       "      <td>37506.41907</td>\n",
       "      <td>CHE</td>\n",
       "      <td>756</td>\n",
       "    </tr>\n",
       "  </tbody>\n",
       "</table>\n",
       "<p>13 rows × 7 columns</p>\n",
       "</div>"
      ],
      "text/plain": [
       "            continent  year  lifeExp       pop    gdpPercap iso_alpha  iso_num\n",
       "country                                                                       \n",
       "Australia     Oceania  2007   81.235  20434176  34435.36744       AUS       36\n",
       "Canada       Americas  2007   80.653  33390141  36319.23501       CAN      124\n",
       "...               ...   ...      ...       ...          ...       ...      ...\n",
       "Sweden         Europe  2007   80.884   9031088  33859.74835       SWE      752\n",
       "Switzerland    Europe  2007   81.701   7554661  37506.41907       CHE      756\n",
       "\n",
       "[13 rows x 7 columns]"
      ]
     },
     "execution_count": null,
     "metadata": {},
     "output_type": "execute_result"
    }
   ],
   "source": []
  },
  {
   "attachments": {},
   "cell_type": "markdown",
   "id": "1872a91a",
   "metadata": {
    "papermill": {
     "duration": 0.004128,
     "end_time": "2024-04-10T10:53:44.717732",
     "exception": false,
     "start_time": "2024-04-10T10:53:44.713604",
     "status": "completed"
    },
    "tags": []
   },
   "source": [
    "## Combine multiple conditions"
   ]
  },
  {
   "attachments": {},
   "cell_type": "markdown",
   "id": "17833b33-00da-47b9-aff6-0ec1d5ae1e0f",
   "metadata": {
    "papermill": {
     "duration": 0.004508,
     "end_time": "2024-04-10T10:53:44.726194",
     "exception": false,
     "start_time": "2024-04-10T10:53:44.721686",
     "status": "completed"
    },
    "tags": [
     "custom-exercise"
    ]
   },
   "source": [
    "**Exercise**: Filter countries from `Asia` and with `lifeExp greater than 80` years old."
   ]
  },
  {
   "attachments": {},
   "cell_type": "markdown",
   "id": "45236e47",
   "metadata": {
    "papermill": {
     "duration": 0.00429,
     "end_time": "2024-04-10T10:53:44.734579",
     "exception": false,
     "start_time": "2024-04-10T10:53:44.730289",
     "status": "completed"
    },
    "tags": []
   },
   "source": [
    "### Intersection\n",
    "\n",
    "```python\n",
    "mask = mask1 & mask2 # intersection (true on both conditions)\n",
    "```"
   ]
  },
  {
   "cell_type": "code",
   "execution_count": null,
   "id": "4ab0ba21-3533-4774-bc66-4574b708ba30",
   "metadata": {
    "execution": {
     "iopub.execute_input": "2024-04-10T10:53:44.744217Z",
     "iopub.status.busy": "2024-04-10T10:53:44.743974Z",
     "iopub.status.idle": "2024-04-10T10:53:44.752993Z",
     "shell.execute_reply": "2024-04-10T10:53:44.752449Z"
    },
    "papermill": {
     "duration": 0.016176,
     "end_time": "2024-04-10T10:53:44.754745",
     "exception": false,
     "start_time": "2024-04-10T10:53:44.738569",
     "status": "completed"
    },
    "tags": []
   },
   "outputs": [
    {
     "data": {
      "text/html": [
       "<div>\n",
       "<style scoped>\n",
       "    .dataframe tbody tr th:only-of-type {\n",
       "        vertical-align: middle;\n",
       "    }\n",
       "\n",
       "    .dataframe tbody tr th {\n",
       "        vertical-align: top;\n",
       "    }\n",
       "\n",
       "    .dataframe thead th {\n",
       "        text-align: right;\n",
       "    }\n",
       "</style>\n",
       "<table border=\"1\" class=\"dataframe\">\n",
       "  <thead>\n",
       "    <tr style=\"text-align: right;\">\n",
       "      <th></th>\n",
       "      <th>continent</th>\n",
       "      <th>year</th>\n",
       "      <th>lifeExp</th>\n",
       "      <th>pop</th>\n",
       "      <th>gdpPercap</th>\n",
       "      <th>iso_alpha</th>\n",
       "      <th>iso_num</th>\n",
       "    </tr>\n",
       "    <tr>\n",
       "      <th>country</th>\n",
       "      <th></th>\n",
       "      <th></th>\n",
       "      <th></th>\n",
       "      <th></th>\n",
       "      <th></th>\n",
       "      <th></th>\n",
       "      <th></th>\n",
       "    </tr>\n",
       "  </thead>\n",
       "  <tbody>\n",
       "    <tr>\n",
       "      <th>Hong Kong, China</th>\n",
       "      <td>Asia</td>\n",
       "      <td>2007</td>\n",
       "      <td>82.208</td>\n",
       "      <td>6980412</td>\n",
       "      <td>39724.97867</td>\n",
       "      <td>HKG</td>\n",
       "      <td>344</td>\n",
       "    </tr>\n",
       "    <tr>\n",
       "      <th>Israel</th>\n",
       "      <td>Asia</td>\n",
       "      <td>2007</td>\n",
       "      <td>80.745</td>\n",
       "      <td>6426679</td>\n",
       "      <td>25523.27710</td>\n",
       "      <td>ISR</td>\n",
       "      <td>376</td>\n",
       "    </tr>\n",
       "    <tr>\n",
       "      <th>Japan</th>\n",
       "      <td>Asia</td>\n",
       "      <td>2007</td>\n",
       "      <td>82.603</td>\n",
       "      <td>127467972</td>\n",
       "      <td>31656.06806</td>\n",
       "      <td>JPN</td>\n",
       "      <td>392</td>\n",
       "    </tr>\n",
       "  </tbody>\n",
       "</table>\n",
       "</div>"
      ],
      "text/plain": [
       "                 continent  year  lifeExp        pop    gdpPercap iso_alpha  \\\n",
       "country                                                                       \n",
       "Hong Kong, China      Asia  2007   82.208    6980412  39724.97867       HKG   \n",
       "Israel                Asia  2007   80.745    6426679  25523.27710       ISR   \n",
       "Japan                 Asia  2007   82.603  127467972  31656.06806       JPN   \n",
       "\n",
       "                  iso_num  \n",
       "country                    \n",
       "Hong Kong, China      344  \n",
       "Israel                376  \n",
       "Japan                 392  "
      ]
     },
     "execution_count": null,
     "metadata": {},
     "output_type": "execute_result"
    }
   ],
   "source": []
  },
  {
   "attachments": {},
   "cell_type": "markdown",
   "id": "c05c0433",
   "metadata": {
    "papermill": {
     "duration": 0.005604,
     "end_time": "2024-04-10T10:53:44.765543",
     "exception": false,
     "start_time": "2024-04-10T10:53:44.759939",
     "status": "completed"
    },
    "tags": []
   },
   "source": [
    "### Union\n",
    "\n",
    "```python\n",
    "mask = mask1 | mask2 # union (true on at least one condition)\n",
    "```"
   ]
  },
  {
   "cell_type": "code",
   "execution_count": null,
   "id": "83affaff",
   "metadata": {
    "execution": {
     "iopub.execute_input": "2024-04-10T10:53:44.799085Z",
     "iopub.status.busy": "2024-04-10T10:53:44.798410Z",
     "iopub.status.idle": "2024-04-10T10:53:44.814901Z",
     "shell.execute_reply": "2024-04-10T10:53:44.814204Z"
    },
    "papermill": {
     "duration": 0.045871,
     "end_time": "2024-04-10T10:53:44.816502",
     "exception": false,
     "start_time": "2024-04-10T10:53:44.770631",
     "status": "completed"
    },
    "tags": []
   },
   "outputs": [
    {
     "data": {
      "text/html": [
       "<div>\n",
       "<style scoped>\n",
       "    .dataframe tbody tr th:only-of-type {\n",
       "        vertical-align: middle;\n",
       "    }\n",
       "\n",
       "    .dataframe tbody tr th {\n",
       "        vertical-align: top;\n",
       "    }\n",
       "\n",
       "    .dataframe thead th {\n",
       "        text-align: right;\n",
       "    }\n",
       "</style>\n",
       "<table border=\"1\" class=\"dataframe\">\n",
       "  <thead>\n",
       "    <tr style=\"text-align: right;\">\n",
       "      <th></th>\n",
       "      <th>continent</th>\n",
       "      <th>year</th>\n",
       "      <th>lifeExp</th>\n",
       "      <th>pop</th>\n",
       "      <th>gdpPercap</th>\n",
       "      <th>iso_alpha</th>\n",
       "      <th>iso_num</th>\n",
       "    </tr>\n",
       "    <tr>\n",
       "      <th>country</th>\n",
       "      <th></th>\n",
       "      <th></th>\n",
       "      <th></th>\n",
       "      <th></th>\n",
       "      <th></th>\n",
       "      <th></th>\n",
       "      <th></th>\n",
       "    </tr>\n",
       "  </thead>\n",
       "  <tbody>\n",
       "    <tr>\n",
       "      <th>Afghanistan</th>\n",
       "      <td>Asia</td>\n",
       "      <td>2007</td>\n",
       "      <td>43.828</td>\n",
       "      <td>31889923</td>\n",
       "      <td>974.580338</td>\n",
       "      <td>AFG</td>\n",
       "      <td>4</td>\n",
       "    </tr>\n",
       "    <tr>\n",
       "      <th>Australia</th>\n",
       "      <td>Oceania</td>\n",
       "      <td>2007</td>\n",
       "      <td>81.235</td>\n",
       "      <td>20434176</td>\n",
       "      <td>34435.367440</td>\n",
       "      <td>AUS</td>\n",
       "      <td>36</td>\n",
       "    </tr>\n",
       "    <tr>\n",
       "      <th>...</th>\n",
       "      <td>...</td>\n",
       "      <td>...</td>\n",
       "      <td>...</td>\n",
       "      <td>...</td>\n",
       "      <td>...</td>\n",
       "      <td>...</td>\n",
       "      <td>...</td>\n",
       "    </tr>\n",
       "    <tr>\n",
       "      <th>West Bank and Gaza</th>\n",
       "      <td>Asia</td>\n",
       "      <td>2007</td>\n",
       "      <td>73.422</td>\n",
       "      <td>4018332</td>\n",
       "      <td>3025.349798</td>\n",
       "      <td>PSE</td>\n",
       "      <td>275</td>\n",
       "    </tr>\n",
       "    <tr>\n",
       "      <th>Yemen, Rep.</th>\n",
       "      <td>Asia</td>\n",
       "      <td>2007</td>\n",
       "      <td>62.698</td>\n",
       "      <td>22211743</td>\n",
       "      <td>2280.769906</td>\n",
       "      <td>YEM</td>\n",
       "      <td>887</td>\n",
       "    </tr>\n",
       "  </tbody>\n",
       "</table>\n",
       "<p>43 rows × 7 columns</p>\n",
       "</div>"
      ],
      "text/plain": [
       "                   continent  year  lifeExp       pop     gdpPercap iso_alpha  \\\n",
       "country                                                                         \n",
       "Afghanistan             Asia  2007   43.828  31889923    974.580338       AFG   \n",
       "Australia            Oceania  2007   81.235  20434176  34435.367440       AUS   \n",
       "...                      ...   ...      ...       ...           ...       ...   \n",
       "West Bank and Gaza      Asia  2007   73.422   4018332   3025.349798       PSE   \n",
       "Yemen, Rep.             Asia  2007   62.698  22211743   2280.769906       YEM   \n",
       "\n",
       "                    iso_num  \n",
       "country                      \n",
       "Afghanistan               4  \n",
       "Australia                36  \n",
       "...                     ...  \n",
       "West Bank and Gaza      275  \n",
       "Yemen, Rep.             887  \n",
       "\n",
       "[43 rows x 7 columns]"
      ]
     },
     "execution_count": null,
     "metadata": {},
     "output_type": "execute_result"
    }
   ],
   "source": []
  },
  {
   "cell_type": "markdown",
   "id": "903f323c",
   "metadata": {},
   "source": [
    "## Bonus: df[mask] vs df.query"
   ]
  },
  {
   "cell_type": "markdown",
   "id": "96e8c421",
   "metadata": {},
   "source": [
    "**Exercise**: Filter the year 2021."
   ]
  },
  {
   "cell_type": "code",
   "execution_count": null,
   "id": "b30ca31d",
   "metadata": {},
   "outputs": [
    {
     "data": {
      "text/html": [
       "<div>\n",
       "<style scoped>\n",
       "    .dataframe tbody tr th:only-of-type {\n",
       "        vertical-align: middle;\n",
       "    }\n",
       "\n",
       "    .dataframe tbody tr th {\n",
       "        vertical-align: top;\n",
       "    }\n",
       "\n",
       "    .dataframe thead th {\n",
       "        text-align: right;\n",
       "    }\n",
       "</style>\n",
       "<table border=\"1\" class=\"dataframe\">\n",
       "  <thead>\n",
       "    <tr style=\"text-align: right;\">\n",
       "      <th></th>\n",
       "      <th>technology</th>\n",
       "      <th>year</th>\n",
       "      <th>month</th>\n",
       "      <th>day</th>\n",
       "      <th>hour</th>\n",
       "      <th>generation_mwh</th>\n",
       "    </tr>\n",
       "  </thead>\n",
       "  <tbody>\n",
       "    <tr>\n",
       "      <th>0</th>\n",
       "      <td>Carbon</td>\n",
       "      <td>2019</td>\n",
       "      <td>1</td>\n",
       "      <td>1</td>\n",
       "      <td>0</td>\n",
       "      <td>1867.0</td>\n",
       "    </tr>\n",
       "    <tr>\n",
       "      <th>1</th>\n",
       "      <td>Carbon</td>\n",
       "      <td>2019</td>\n",
       "      <td>1</td>\n",
       "      <td>1</td>\n",
       "      <td>1</td>\n",
       "      <td>1618.0</td>\n",
       "    </tr>\n",
       "    <tr>\n",
       "      <th>...</th>\n",
       "      <td>...</td>\n",
       "      <td>...</td>\n",
       "      <td>...</td>\n",
       "      <td>...</td>\n",
       "      <td>...</td>\n",
       "      <td>...</td>\n",
       "    </tr>\n",
       "    <tr>\n",
       "      <th>420862</th>\n",
       "      <td>Other Renewables</td>\n",
       "      <td>2021</td>\n",
       "      <td>12</td>\n",
       "      <td>31</td>\n",
       "      <td>22</td>\n",
       "      <td>607.5</td>\n",
       "    </tr>\n",
       "    <tr>\n",
       "      <th>420863</th>\n",
       "      <td>Other Renewables</td>\n",
       "      <td>2021</td>\n",
       "      <td>12</td>\n",
       "      <td>31</td>\n",
       "      <td>23</td>\n",
       "      <td>591.6</td>\n",
       "    </tr>\n",
       "  </tbody>\n",
       "</table>\n",
       "<p>420864 rows × 6 columns</p>\n",
       "</div>"
      ],
      "text/plain": [
       "              technology  year  month  day  hour  generation_mwh\n",
       "0                 Carbon  2019      1    1     0          1867.0\n",
       "1                 Carbon  2019      1    1     1          1618.0\n",
       "...                  ...   ...    ...  ...   ...             ...\n",
       "420862  Other Renewables  2021     12   31    22           607.5\n",
       "420863  Other Renewables  2021     12   31    23           591.6\n",
       "\n",
       "[420864 rows x 6 columns]"
      ]
     },
     "execution_count": null,
     "metadata": {},
     "output_type": "execute_result"
    }
   ],
   "source": []
  },
  {
   "cell_type": "markdown",
   "id": "e6ac3ba1",
   "metadata": {},
   "source": [
    "### Dummy"
   ]
  },
  {
   "cell_type": "code",
   "execution_count": null,
   "id": "013eb76f",
   "metadata": {},
   "outputs": [
    {
     "data": {
      "text/html": [
       "<div>\n",
       "<style scoped>\n",
       "    .dataframe tbody tr th:only-of-type {\n",
       "        vertical-align: middle;\n",
       "    }\n",
       "\n",
       "    .dataframe tbody tr th {\n",
       "        vertical-align: top;\n",
       "    }\n",
       "\n",
       "    .dataframe thead th {\n",
       "        text-align: right;\n",
       "    }\n",
       "</style>\n",
       "<table border=\"1\" class=\"dataframe\">\n",
       "  <thead>\n",
       "    <tr style=\"text-align: right;\">\n",
       "      <th></th>\n",
       "      <th>technology</th>\n",
       "      <th>year</th>\n",
       "      <th>month</th>\n",
       "      <th>day</th>\n",
       "      <th>hour</th>\n",
       "      <th>generation_mwh</th>\n",
       "    </tr>\n",
       "  </thead>\n",
       "  <tbody>\n",
       "    <tr>\n",
       "      <th>17544</th>\n",
       "      <td>Carbon</td>\n",
       "      <td>2021</td>\n",
       "      <td>1</td>\n",
       "      <td>1</td>\n",
       "      <td>0</td>\n",
       "      <td>250.0</td>\n",
       "    </tr>\n",
       "    <tr>\n",
       "      <th>17545</th>\n",
       "      <td>Carbon</td>\n",
       "      <td>2021</td>\n",
       "      <td>1</td>\n",
       "      <td>1</td>\n",
       "      <td>1</td>\n",
       "      <td>250.0</td>\n",
       "    </tr>\n",
       "    <tr>\n",
       "      <th>...</th>\n",
       "      <td>...</td>\n",
       "      <td>...</td>\n",
       "      <td>...</td>\n",
       "      <td>...</td>\n",
       "      <td>...</td>\n",
       "      <td>...</td>\n",
       "    </tr>\n",
       "    <tr>\n",
       "      <th>420862</th>\n",
       "      <td>Other Renewables</td>\n",
       "      <td>2021</td>\n",
       "      <td>12</td>\n",
       "      <td>31</td>\n",
       "      <td>22</td>\n",
       "      <td>607.5</td>\n",
       "    </tr>\n",
       "    <tr>\n",
       "      <th>420863</th>\n",
       "      <td>Other Renewables</td>\n",
       "      <td>2021</td>\n",
       "      <td>12</td>\n",
       "      <td>31</td>\n",
       "      <td>23</td>\n",
       "      <td>591.6</td>\n",
       "    </tr>\n",
       "  </tbody>\n",
       "</table>\n",
       "<p>140160 rows × 6 columns</p>\n",
       "</div>"
      ],
      "text/plain": [
       "              technology  year  month  day  hour  generation_mwh\n",
       "17544             Carbon  2021      1    1     0           250.0\n",
       "17545             Carbon  2021      1    1     1           250.0\n",
       "...                  ...   ...    ...  ...   ...             ...\n",
       "420862  Other Renewables  2021     12   31    22           607.5\n",
       "420863  Other Renewables  2021     12   31    23           591.6\n",
       "\n",
       "[140160 rows x 6 columns]"
      ]
     },
     "execution_count": null,
     "metadata": {},
     "output_type": "execute_result"
    }
   ],
   "source": []
  },
  {
   "cell_type": "markdown",
   "id": "e1944d6e",
   "metadata": {},
   "source": [
    "### Proficient"
   ]
  },
  {
   "cell_type": "code",
   "execution_count": null,
   "id": "2d049be5",
   "metadata": {},
   "outputs": [
    {
     "data": {
      "text/html": [
       "<div>\n",
       "<style scoped>\n",
       "    .dataframe tbody tr th:only-of-type {\n",
       "        vertical-align: middle;\n",
       "    }\n",
       "\n",
       "    .dataframe tbody tr th {\n",
       "        vertical-align: top;\n",
       "    }\n",
       "\n",
       "    .dataframe thead th {\n",
       "        text-align: right;\n",
       "    }\n",
       "</style>\n",
       "<table border=\"1\" class=\"dataframe\">\n",
       "  <thead>\n",
       "    <tr style=\"text-align: right;\">\n",
       "      <th></th>\n",
       "      <th>technology</th>\n",
       "      <th>year</th>\n",
       "      <th>month</th>\n",
       "      <th>day</th>\n",
       "      <th>hour</th>\n",
       "      <th>generation_mwh</th>\n",
       "    </tr>\n",
       "  </thead>\n",
       "  <tbody>\n",
       "    <tr>\n",
       "      <th>17544</th>\n",
       "      <td>Carbon</td>\n",
       "      <td>2021</td>\n",
       "      <td>1</td>\n",
       "      <td>1</td>\n",
       "      <td>0</td>\n",
       "      <td>250.0</td>\n",
       "    </tr>\n",
       "    <tr>\n",
       "      <th>17545</th>\n",
       "      <td>Carbon</td>\n",
       "      <td>2021</td>\n",
       "      <td>1</td>\n",
       "      <td>1</td>\n",
       "      <td>1</td>\n",
       "      <td>250.0</td>\n",
       "    </tr>\n",
       "    <tr>\n",
       "      <th>...</th>\n",
       "      <td>...</td>\n",
       "      <td>...</td>\n",
       "      <td>...</td>\n",
       "      <td>...</td>\n",
       "      <td>...</td>\n",
       "      <td>...</td>\n",
       "    </tr>\n",
       "    <tr>\n",
       "      <th>420862</th>\n",
       "      <td>Other Renewables</td>\n",
       "      <td>2021</td>\n",
       "      <td>12</td>\n",
       "      <td>31</td>\n",
       "      <td>22</td>\n",
       "      <td>607.5</td>\n",
       "    </tr>\n",
       "    <tr>\n",
       "      <th>420863</th>\n",
       "      <td>Other Renewables</td>\n",
       "      <td>2021</td>\n",
       "      <td>12</td>\n",
       "      <td>31</td>\n",
       "      <td>23</td>\n",
       "      <td>591.6</td>\n",
       "    </tr>\n",
       "  </tbody>\n",
       "</table>\n",
       "<p>140160 rows × 6 columns</p>\n",
       "</div>"
      ],
      "text/plain": [
       "              technology  year  month  day  hour  generation_mwh\n",
       "17544             Carbon  2021      1    1     0           250.0\n",
       "17545             Carbon  2021      1    1     1           250.0\n",
       "...                  ...   ...    ...  ...   ...             ...\n",
       "420862  Other Renewables  2021     12   31    22           607.5\n",
       "420863  Other Renewables  2021     12   31    23           591.6\n",
       "\n",
       "[140160 rows x 6 columns]"
      ]
     },
     "execution_count": null,
     "metadata": {},
     "output_type": "execute_result"
    }
   ],
   "source": []
  },
  {
   "cell_type": "markdown",
   "id": "2caf785f",
   "metadata": {},
   "source": [
    "## Query with multiple conditions"
   ]
  },
  {
   "cell_type": "markdown",
   "id": "02921f93",
   "metadata": {},
   "source": [
    "**Exercise**: Filter the year `2021` and `Eolic` technology."
   ]
  },
  {
   "cell_type": "markdown",
   "id": "f3dd05f4",
   "metadata": {},
   "source": [
    "### Dummy"
   ]
  },
  {
   "cell_type": "code",
   "execution_count": null,
   "id": "7ad10fd9",
   "metadata": {},
   "outputs": [
    {
     "data": {
      "text/html": [
       "<div>\n",
       "<style scoped>\n",
       "    .dataframe tbody tr th:only-of-type {\n",
       "        vertical-align: middle;\n",
       "    }\n",
       "\n",
       "    .dataframe tbody tr th {\n",
       "        vertical-align: top;\n",
       "    }\n",
       "\n",
       "    .dataframe thead th {\n",
       "        text-align: right;\n",
       "    }\n",
       "</style>\n",
       "<table border=\"1\" class=\"dataframe\">\n",
       "  <thead>\n",
       "    <tr style=\"text-align: right;\">\n",
       "      <th></th>\n",
       "      <th>technology</th>\n",
       "      <th>year</th>\n",
       "      <th>month</th>\n",
       "      <th>day</th>\n",
       "      <th>hour</th>\n",
       "      <th>generation_mwh</th>\n",
       "    </tr>\n",
       "  </thead>\n",
       "  <tbody>\n",
       "    <tr>\n",
       "      <th>122760</th>\n",
       "      <td>Eolic</td>\n",
       "      <td>2021</td>\n",
       "      <td>1</td>\n",
       "      <td>1</td>\n",
       "      <td>0</td>\n",
       "      <td>8557.5</td>\n",
       "    </tr>\n",
       "    <tr>\n",
       "      <th>122761</th>\n",
       "      <td>Eolic</td>\n",
       "      <td>2021</td>\n",
       "      <td>1</td>\n",
       "      <td>1</td>\n",
       "      <td>1</td>\n",
       "      <td>8661.6</td>\n",
       "    </tr>\n",
       "    <tr>\n",
       "      <th>...</th>\n",
       "      <td>...</td>\n",
       "      <td>...</td>\n",
       "      <td>...</td>\n",
       "      <td>...</td>\n",
       "      <td>...</td>\n",
       "      <td>...</td>\n",
       "    </tr>\n",
       "    <tr>\n",
       "      <th>131518</th>\n",
       "      <td>Eolic</td>\n",
       "      <td>2021</td>\n",
       "      <td>12</td>\n",
       "      <td>31</td>\n",
       "      <td>22</td>\n",
       "      <td>6081.8</td>\n",
       "    </tr>\n",
       "    <tr>\n",
       "      <th>131519</th>\n",
       "      <td>Eolic</td>\n",
       "      <td>2021</td>\n",
       "      <td>12</td>\n",
       "      <td>31</td>\n",
       "      <td>23</td>\n",
       "      <td>6255.3</td>\n",
       "    </tr>\n",
       "  </tbody>\n",
       "</table>\n",
       "<p>8760 rows × 6 columns</p>\n",
       "</div>"
      ],
      "text/plain": [
       "       technology  year  month  day  hour  generation_mwh\n",
       "122760      Eolic  2021      1    1     0          8557.5\n",
       "122761      Eolic  2021      1    1     1          8661.6\n",
       "...           ...   ...    ...  ...   ...             ...\n",
       "131518      Eolic  2021     12   31    22          6081.8\n",
       "131519      Eolic  2021     12   31    23          6255.3\n",
       "\n",
       "[8760 rows x 6 columns]"
      ]
     },
     "execution_count": null,
     "metadata": {},
     "output_type": "execute_result"
    }
   ],
   "source": []
  },
  {
   "cell_type": "markdown",
   "id": "73bcc994",
   "metadata": {},
   "source": [
    "### Proficient"
   ]
  },
  {
   "cell_type": "code",
   "execution_count": null,
   "id": "84371810",
   "metadata": {},
   "outputs": [
    {
     "data": {
      "text/html": [
       "<div>\n",
       "<style scoped>\n",
       "    .dataframe tbody tr th:only-of-type {\n",
       "        vertical-align: middle;\n",
       "    }\n",
       "\n",
       "    .dataframe tbody tr th {\n",
       "        vertical-align: top;\n",
       "    }\n",
       "\n",
       "    .dataframe thead th {\n",
       "        text-align: right;\n",
       "    }\n",
       "</style>\n",
       "<table border=\"1\" class=\"dataframe\">\n",
       "  <thead>\n",
       "    <tr style=\"text-align: right;\">\n",
       "      <th></th>\n",
       "      <th>technology</th>\n",
       "      <th>year</th>\n",
       "      <th>month</th>\n",
       "      <th>day</th>\n",
       "      <th>hour</th>\n",
       "      <th>generation_mwh</th>\n",
       "    </tr>\n",
       "  </thead>\n",
       "  <tbody>\n",
       "    <tr>\n",
       "      <th>122760</th>\n",
       "      <td>Eolic</td>\n",
       "      <td>2021</td>\n",
       "      <td>1</td>\n",
       "      <td>1</td>\n",
       "      <td>0</td>\n",
       "      <td>8557.5</td>\n",
       "    </tr>\n",
       "    <tr>\n",
       "      <th>122761</th>\n",
       "      <td>Eolic</td>\n",
       "      <td>2021</td>\n",
       "      <td>1</td>\n",
       "      <td>1</td>\n",
       "      <td>1</td>\n",
       "      <td>8661.6</td>\n",
       "    </tr>\n",
       "    <tr>\n",
       "      <th>...</th>\n",
       "      <td>...</td>\n",
       "      <td>...</td>\n",
       "      <td>...</td>\n",
       "      <td>...</td>\n",
       "      <td>...</td>\n",
       "      <td>...</td>\n",
       "    </tr>\n",
       "    <tr>\n",
       "      <th>131518</th>\n",
       "      <td>Eolic</td>\n",
       "      <td>2021</td>\n",
       "      <td>12</td>\n",
       "      <td>31</td>\n",
       "      <td>22</td>\n",
       "      <td>6081.8</td>\n",
       "    </tr>\n",
       "    <tr>\n",
       "      <th>131519</th>\n",
       "      <td>Eolic</td>\n",
       "      <td>2021</td>\n",
       "      <td>12</td>\n",
       "      <td>31</td>\n",
       "      <td>23</td>\n",
       "      <td>6255.3</td>\n",
       "    </tr>\n",
       "  </tbody>\n",
       "</table>\n",
       "<p>8760 rows × 6 columns</p>\n",
       "</div>"
      ],
      "text/plain": [
       "       technology  year  month  day  hour  generation_mwh\n",
       "122760      Eolic  2021      1    1     0          8557.5\n",
       "122761      Eolic  2021      1    1     1          8661.6\n",
       "...           ...   ...    ...  ...   ...             ...\n",
       "131518      Eolic  2021     12   31    22          6081.8\n",
       "131519      Eolic  2021     12   31    23          6255.3\n",
       "\n",
       "[8760 rows x 6 columns]"
      ]
     },
     "execution_count": null,
     "metadata": {},
     "output_type": "execute_result"
    }
   ],
   "source": []
  }
 ],
 "metadata": {
  "kernelspec": {
   "display_name": "Python 3 (ipykernel)",
   "language": "python",
   "name": "python3"
  },
  "language_info": {
   "codemirror_mode": {
    "name": "ipython",
    "version": 3
   },
   "file_extension": ".py",
   "mimetype": "text/x-python",
   "name": "python",
   "nbconvert_exporter": "python",
   "pygments_lexer": "ipython3",
   "version": "3.12.2"
  },
  "papermill": {
   "default_parameters": {},
   "duration": 2.156596,
   "end_time": "2024-04-10T10:53:45.140862",
   "environment_variables": {},
   "exception": null,
   "input_path": "/Users/sota/Dropbox/2 Business/2 Areas/datons.academy/2 Areas/Products/Digital Courses/DAV/course-maven/solutions/notebooks/40_Data Operations/45_Filter/B.ipynb",
   "output_path": "/Users/sota/Dropbox/2 Business/2 Areas/datons.academy/2 Areas/Products/Digital Courses/DAV/course-maven/solutions/notebooks/40_Data Operations/45_Filter/B.ipynb",
   "parameters": {},
   "start_time": "2024-04-10T10:53:42.984266",
   "version": "2.5.0"
  }
 },
 "nbformat": 4,
 "nbformat_minor": 5
}
