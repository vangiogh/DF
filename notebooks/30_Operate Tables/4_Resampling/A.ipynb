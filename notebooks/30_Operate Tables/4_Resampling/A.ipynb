{
 "cells": [
  {
   "attachments": {},
   "cell_type": "markdown",
   "id": "f49fc94c",
   "metadata": {
    "papermill": {
     "duration": 0.009831,
     "end_time": "2024-04-10T10:53:30.465684",
     "exception": false,
     "start_time": "2024-04-10T10:53:30.455853",
     "status": "completed"
    },
    "tags": []
   },
   "source": [
    "# Temporal resampling of time series data"
   ]
  },
  {
   "cell_type": "markdown",
   "id": "e1cf2c30",
   "metadata": {},
   "source": [
    "[**See `resampling` instructions**](https://datons.craft.me/h3f5pSQSE7l6RW) to complete the following exercises."
   ]
  },
  {
   "attachments": {},
   "cell_type": "markdown",
   "id": "25a73ab0",
   "metadata": {
    "papermill": {
     "duration": 0.004588,
     "end_time": "2024-04-10T10:53:30.475881",
     "exception": false,
     "start_time": "2024-04-10T10:53:30.471293",
     "status": "completed"
    },
    "tags": []
   },
   "source": [
    "## Data"
   ]
  },
  {
   "cell_type": "code",
   "execution_count": 1,
   "id": "46904791",
   "metadata": {
    "execution": {
     "iopub.execute_input": "2024-04-10T10:53:30.488245Z",
     "iopub.status.busy": "2024-04-10T10:53:30.487922Z",
     "iopub.status.idle": "2024-04-10T10:53:31.092139Z",
     "shell.execute_reply": "2024-04-10T10:53:31.091561Z"
    },
    "papermill": {
     "duration": 0.613494,
     "end_time": "2024-04-10T10:53:31.095511",
     "exception": false,
     "start_time": "2024-04-10T10:53:30.482017",
     "status": "completed"
    },
    "tags": [
     "change-false"
    ]
   },
   "outputs": [
    {
     "data": {
      "text/html": [
       "<div>\n",
       "<style scoped>\n",
       "    .dataframe tbody tr th:only-of-type {\n",
       "        vertical-align: middle;\n",
       "    }\n",
       "\n",
       "    .dataframe tbody tr th {\n",
       "        vertical-align: top;\n",
       "    }\n",
       "\n",
       "    .dataframe thead th {\n",
       "        text-align: right;\n",
       "    }\n",
       "</style>\n",
       "<table border=\"1\" class=\"dataframe\">\n",
       "  <thead>\n",
       "    <tr style=\"text-align: right;\">\n",
       "      <th></th>\n",
       "      <th>Date</th>\n",
       "      <th>Close</th>\n",
       "    </tr>\n",
       "  </thead>\n",
       "  <tbody>\n",
       "    <tr>\n",
       "      <th>1</th>\n",
       "      <td>2010-06-30</td>\n",
       "      <td>-0.251148</td>\n",
       "    </tr>\n",
       "    <tr>\n",
       "      <th>2</th>\n",
       "      <td>2010-07-01</td>\n",
       "      <td>-7.847274</td>\n",
       "    </tr>\n",
       "    <tr>\n",
       "      <th>...</th>\n",
       "      <td>...</td>\n",
       "      <td>...</td>\n",
       "    </tr>\n",
       "    <tr>\n",
       "      <th>3460</th>\n",
       "      <td>2024-03-28</td>\n",
       "      <td>-2.246571</td>\n",
       "    </tr>\n",
       "    <tr>\n",
       "      <th>3461</th>\n",
       "      <td>2024-04-01</td>\n",
       "      <td>-0.324246</td>\n",
       "    </tr>\n",
       "  </tbody>\n",
       "</table>\n",
       "<p>3461 rows × 2 columns</p>\n",
       "</div>"
      ],
      "text/plain": [
       "            Date     Close\n",
       "1     2010-06-30 -0.251148\n",
       "2     2010-07-01 -7.847274\n",
       "...          ...       ...\n",
       "3460  2024-03-28 -2.246571\n",
       "3461  2024-04-01 -0.324246\n",
       "\n",
       "[3461 rows x 2 columns]"
      ]
     },
     "execution_count": 1,
     "metadata": {},
     "output_type": "execute_result"
    }
   ],
   "source": [
    "import pandas as pd\n",
    "\n",
    "df_tsla = pd.read_csv('../../../data/raw/tsla_stock.csv')\n",
    "df_tsla = df_tsla[['Date', 'Close']]\n",
    "df_tsla['Close'] = df_tsla['Close'].pct_change().mul(100)\n",
    "df_tsla = df_tsla.dropna()\n",
    "df_tsla"
   ]
  },
  {
   "attachments": {},
   "cell_type": "markdown",
   "id": "d6573388",
   "metadata": {
    "papermill": {
     "duration": 0.004026,
     "end_time": "2024-04-10T10:53:31.119304",
     "exception": false,
     "start_time": "2024-04-10T10:53:31.115278",
     "status": "completed"
    },
    "tags": []
   },
   "source": [
    "## Configure datetime index"
   ]
  },
  {
   "attachments": {},
   "cell_type": "markdown",
   "id": "9722cf6d",
   "metadata": {
    "papermill": {
     "duration": 0.005173,
     "end_time": "2024-04-10T10:53:31.146352",
     "exception": false,
     "start_time": "2024-04-10T10:53:31.141179",
     "status": "completed"
    },
    "tags": []
   },
   "source": [
    "### Format datetime column"
   ]
  },
  {
   "cell_type": "code",
   "execution_count": null,
   "id": "ba9cd959",
   "metadata": {
    "execution": {
     "iopub.execute_input": "2024-04-10T10:53:31.171905Z",
     "iopub.status.busy": "2024-04-10T10:53:31.171621Z",
     "iopub.status.idle": "2024-04-10T10:53:31.180737Z",
     "shell.execute_reply": "2024-04-10T10:53:31.180115Z"
    },
    "papermill": {
     "duration": 0.016335,
     "end_time": "2024-04-10T10:53:31.182613",
     "exception": false,
     "start_time": "2024-04-10T10:53:31.166278",
     "status": "completed"
    },
    "tags": []
   },
   "outputs": [
    {
     "data": {
      "text/plain": [
       "1      2010-06-30\n",
       "2      2010-07-01\n",
       "          ...    \n",
       "3460   2024-03-28\n",
       "3461   2024-04-01\n",
       "Name: Date, Length: 3461, dtype: datetime64[ns]"
      ]
     },
     "execution_count": null,
     "metadata": {},
     "output_type": "execute_result"
    }
   ],
   "source": []
  },
  {
   "attachments": {},
   "cell_type": "markdown",
   "id": "43d23971",
   "metadata": {
    "papermill": {
     "duration": 0.00384,
     "end_time": "2024-04-10T10:53:31.190509",
     "exception": false,
     "start_time": "2024-04-10T10:53:31.186669",
     "status": "completed"
    },
    "tags": []
   },
   "source": [
    "### Set datetime column as index"
   ]
  },
  {
   "cell_type": "code",
   "execution_count": null,
   "id": "94aaf322",
   "metadata": {
    "execution": {
     "iopub.execute_input": "2024-04-10T10:53:31.199754Z",
     "iopub.status.busy": "2024-04-10T10:53:31.199513Z",
     "iopub.status.idle": "2024-04-10T10:53:31.206591Z",
     "shell.execute_reply": "2024-04-10T10:53:31.206055Z"
    },
    "papermill": {
     "duration": 0.013541,
     "end_time": "2024-04-10T10:53:31.208272",
     "exception": false,
     "start_time": "2024-04-10T10:53:31.194731",
     "status": "completed"
    },
    "tags": []
   },
   "outputs": [
    {
     "data": {
      "text/html": [
       "<div>\n",
       "<style scoped>\n",
       "    .dataframe tbody tr th:only-of-type {\n",
       "        vertical-align: middle;\n",
       "    }\n",
       "\n",
       "    .dataframe tbody tr th {\n",
       "        vertical-align: top;\n",
       "    }\n",
       "\n",
       "    .dataframe thead th {\n",
       "        text-align: right;\n",
       "    }\n",
       "</style>\n",
       "<table border=\"1\" class=\"dataframe\">\n",
       "  <thead>\n",
       "    <tr style=\"text-align: right;\">\n",
       "      <th></th>\n",
       "      <th>Close</th>\n",
       "    </tr>\n",
       "    <tr>\n",
       "      <th>Date</th>\n",
       "      <th></th>\n",
       "    </tr>\n",
       "  </thead>\n",
       "  <tbody>\n",
       "    <tr>\n",
       "      <th>2010-06-30</th>\n",
       "      <td>-0.251148</td>\n",
       "    </tr>\n",
       "    <tr>\n",
       "      <th>2010-07-01</th>\n",
       "      <td>-7.847274</td>\n",
       "    </tr>\n",
       "    <tr>\n",
       "      <th>...</th>\n",
       "      <td>...</td>\n",
       "    </tr>\n",
       "    <tr>\n",
       "      <th>2024-03-28</th>\n",
       "      <td>-2.246571</td>\n",
       "    </tr>\n",
       "    <tr>\n",
       "      <th>2024-04-01</th>\n",
       "      <td>-0.324246</td>\n",
       "    </tr>\n",
       "  </tbody>\n",
       "</table>\n",
       "<p>3461 rows × 1 columns</p>\n",
       "</div>"
      ],
      "text/plain": [
       "               Close\n",
       "Date                \n",
       "2010-06-30 -0.251148\n",
       "2010-07-01 -7.847274\n",
       "...              ...\n",
       "2024-03-28 -2.246571\n",
       "2024-04-01 -0.324246\n",
       "\n",
       "[3461 rows x 1 columns]"
      ]
     },
     "execution_count": null,
     "metadata": {},
     "output_type": "execute_result"
    }
   ],
   "source": []
  },
  {
   "attachments": {},
   "cell_type": "markdown",
   "id": "9590969f",
   "metadata": {
    "papermill": {
     "duration": 0.004851,
     "end_time": "2024-04-10T10:53:31.217552",
     "exception": false,
     "start_time": "2024-04-10T10:53:31.212701",
     "status": "completed"
    },
    "tags": []
   },
   "source": [
    "## Monthly resampling"
   ]
  },
  {
   "attachments": {},
   "cell_type": "markdown",
   "id": "22ae6625",
   "metadata": {
    "papermill": {
     "duration": 0.005597,
     "end_time": "2024-04-10T10:53:31.228093",
     "exception": false,
     "start_time": "2024-04-10T10:53:31.222496",
     "status": "completed"
    },
    "tags": [
     "custom-exercise"
    ]
   },
   "source": [
    "### 1 mathematical operation\n",
    "\n",
    "- Average by month"
   ]
  },
  {
   "cell_type": "code",
   "execution_count": null,
   "id": "4342ba6f",
   "metadata": {
    "execution": {
     "iopub.execute_input": "2024-04-10T10:53:31.237171Z",
     "iopub.status.busy": "2024-04-10T10:53:31.236931Z",
     "iopub.status.idle": "2024-04-10T10:53:31.247782Z",
     "shell.execute_reply": "2024-04-10T10:53:31.246673Z"
    },
    "papermill": {
     "duration": 0.017132,
     "end_time": "2024-04-10T10:53:31.249659",
     "exception": false,
     "start_time": "2024-04-10T10:53:31.232527",
     "status": "completed"
    },
    "tags": []
   },
   "outputs": [
    {
     "data": {
      "text/html": [
       "<div>\n",
       "<style scoped>\n",
       "    .dataframe tbody tr th:only-of-type {\n",
       "        vertical-align: middle;\n",
       "    }\n",
       "\n",
       "    .dataframe tbody tr th {\n",
       "        vertical-align: top;\n",
       "    }\n",
       "\n",
       "    .dataframe thead th {\n",
       "        text-align: right;\n",
       "    }\n",
       "</style>\n",
       "<table border=\"1\" class=\"dataframe\">\n",
       "  <thead>\n",
       "    <tr style=\"text-align: right;\">\n",
       "      <th></th>\n",
       "      <th>Close</th>\n",
       "    </tr>\n",
       "    <tr>\n",
       "      <th>Date</th>\n",
       "      <th></th>\n",
       "    </tr>\n",
       "  </thead>\n",
       "  <tbody>\n",
       "    <tr>\n",
       "      <th>2010-06-30</th>\n",
       "      <td>-0.251148</td>\n",
       "    </tr>\n",
       "    <tr>\n",
       "      <th>2010-07-31</th>\n",
       "      <td>-0.634542</td>\n",
       "    </tr>\n",
       "    <tr>\n",
       "      <th>...</th>\n",
       "      <td>...</td>\n",
       "    </tr>\n",
       "    <tr>\n",
       "      <th>2024-03-31</th>\n",
       "      <td>-0.645118</td>\n",
       "    </tr>\n",
       "    <tr>\n",
       "      <th>2024-04-30</th>\n",
       "      <td>-0.324246</td>\n",
       "    </tr>\n",
       "  </tbody>\n",
       "</table>\n",
       "<p>167 rows × 1 columns</p>\n",
       "</div>"
      ],
      "text/plain": [
       "               Close\n",
       "Date                \n",
       "2010-06-30 -0.251148\n",
       "2010-07-31 -0.634542\n",
       "...              ...\n",
       "2024-03-31 -0.645118\n",
       "2024-04-30 -0.324246\n",
       "\n",
       "[167 rows x 1 columns]"
      ]
     },
     "execution_count": null,
     "metadata": {},
     "output_type": "execute_result"
    }
   ],
   "source": []
  },
  {
   "cell_type": "code",
   "execution_count": null,
   "id": "fe6ce97f",
   "metadata": {
    "execution": {
     "iopub.execute_input": "2024-04-10T10:53:31.258474Z",
     "iopub.status.busy": "2024-04-10T10:53:31.258032Z",
     "iopub.status.idle": "2024-04-10T10:53:31.962244Z",
     "shell.execute_reply": "2024-04-10T10:53:31.961435Z"
    },
    "papermill": {
     "duration": 0.711384,
     "end_time": "2024-04-10T10:53:31.964801",
     "exception": false,
     "start_time": "2024-04-10T10:53:31.253417",
     "status": "completed"
    },
    "tags": []
   },
   "outputs": [
    {
     "data": {
      "image/png": "[encoded data removed]",
      "text/plain": [
       "<Figure size 640x480 with 1 Axes>"
      ]
     },
     "execution_count": null,
     "metadata": {},
     "output_type": "display_data"
    }
   ],
   "source": []
  },
  {
   "cell_type": "markdown",
   "id": "a3378b95",
   "metadata": {},
   "source": [
    "---"
   ]
  },
  {
   "attachments": {},
   "cell_type": "markdown",
   "id": "a0b4d0db",
   "metadata": {
    "papermill": {
     "duration": 0.006211,
     "end_time": "2024-04-10T10:53:31.977197",
     "exception": false,
     "start_time": "2024-04-10T10:53:31.970986",
     "status": "completed"
    },
    "tags": []
   },
   "source": [
    "### 2 mathematical operations"
   ]
  },
  {
   "attachments": {},
   "cell_type": "markdown",
   "id": "cbc5bce0",
   "metadata": {
    "execution": {
     "iopub.execute_input": "2024-04-10T10:50:43.731601Z",
     "iopub.status.busy": "2024-04-10T10:50:43.731288Z",
     "iopub.status.idle": "2024-04-10T10:50:43.736706Z",
     "shell.execute_reply": "2024-04-10T10:50:43.735493Z"
    },
    "papermill": {
     "duration": 0.004558,
     "end_time": "2024-04-10T10:53:31.986888",
     "exception": false,
     "start_time": "2024-04-10T10:53:31.982330",
     "status": "completed"
    },
    "tags": []
   },
   "source": [
    "- Monthly aggregation of minimum and maximum values"
   ]
  },
  {
   "cell_type": "code",
   "execution_count": null,
   "id": "385f05b4",
   "metadata": {
    "execution": {
     "iopub.execute_input": "2024-04-10T10:53:31.998522Z",
     "iopub.status.busy": "2024-04-10T10:53:31.997677Z",
     "iopub.status.idle": "2024-04-10T10:53:32.016148Z",
     "shell.execute_reply": "2024-04-10T10:53:32.015621Z"
    },
    "papermill": {
     "duration": 0.02646,
     "end_time": "2024-04-10T10:53:32.017798",
     "exception": false,
     "start_time": "2024-04-10T10:53:31.991338",
     "status": "completed"
    },
    "tags": []
   },
   "outputs": [
    {
     "data": {
      "text/html": [
       "<div>\n",
       "<style scoped>\n",
       "    .dataframe tbody tr th:only-of-type {\n",
       "        vertical-align: middle;\n",
       "    }\n",
       "\n",
       "    .dataframe tbody tr th {\n",
       "        vertical-align: top;\n",
       "    }\n",
       "\n",
       "    .dataframe thead tr th {\n",
       "        text-align: left;\n",
       "    }\n",
       "\n",
       "    .dataframe thead tr:last-of-type th {\n",
       "        text-align: right;\n",
       "    }\n",
       "</style>\n",
       "<table border=\"1\" class=\"dataframe\">\n",
       "  <thead>\n",
       "    <tr>\n",
       "      <th></th>\n",
       "      <th colspan=\"2\" halign=\"left\">Close</th>\n",
       "    </tr>\n",
       "    <tr>\n",
       "      <th></th>\n",
       "      <th>min</th>\n",
       "      <th>max</th>\n",
       "    </tr>\n",
       "    <tr>\n",
       "      <th>Date</th>\n",
       "      <th></th>\n",
       "      <th></th>\n",
       "    </tr>\n",
       "  </thead>\n",
       "  <tbody>\n",
       "    <tr>\n",
       "      <th>2010-06-30</th>\n",
       "      <td>-0.251148</td>\n",
       "      <td>-0.251148</td>\n",
       "    </tr>\n",
       "    <tr>\n",
       "      <th>2010-07-31</th>\n",
       "      <td>-16.093748</td>\n",
       "      <td>10.506363</td>\n",
       "    </tr>\n",
       "    <tr>\n",
       "      <th>...</th>\n",
       "      <td>...</td>\n",
       "      <td>...</td>\n",
       "    </tr>\n",
       "    <tr>\n",
       "      <th>2024-03-31</th>\n",
       "      <td>-7.155547</td>\n",
       "      <td>6.254200</td>\n",
       "    </tr>\n",
       "    <tr>\n",
       "      <th>2024-04-30</th>\n",
       "      <td>-0.324246</td>\n",
       "      <td>-0.324246</td>\n",
       "    </tr>\n",
       "  </tbody>\n",
       "</table>\n",
       "<p>167 rows × 2 columns</p>\n",
       "</div>"
      ],
      "text/plain": [
       "                Close           \n",
       "                  min        max\n",
       "Date                            \n",
       "2010-06-30  -0.251148  -0.251148\n",
       "2010-07-31 -16.093748  10.506363\n",
       "...               ...        ...\n",
       "2024-03-31  -7.155547   6.254200\n",
       "2024-04-30  -0.324246  -0.324246\n",
       "\n",
       "[167 rows x 2 columns]"
      ]
     },
     "execution_count": null,
     "metadata": {},
     "output_type": "execute_result"
    }
   ],
   "source": []
  },
  {
   "cell_type": "code",
   "execution_count": null,
   "id": "1c0d6fee",
   "metadata": {
    "execution": {
     "iopub.execute_input": "2024-04-10T10:53:32.027828Z",
     "iopub.status.busy": "2024-04-10T10:53:32.027492Z",
     "iopub.status.idle": "2024-04-10T10:53:32.338215Z",
     "shell.execute_reply": "2024-04-10T10:53:32.337100Z"
    },
    "papermill": {
     "duration": 0.318477,
     "end_time": "2024-04-10T10:53:32.340483",
     "exception": false,
     "start_time": "2024-04-10T10:53:32.022006",
     "status": "completed"
    },
    "tags": []
   },
   "outputs": [
    {
     "data": {
      "image/png": "[encoded data removed]",
      "text/plain": [
       "<Figure size 640x480 with 1 Axes>"
      ]
     },
     "execution_count": null,
     "metadata": {},
     "output_type": "display_data"
    }
   ],
   "source": []
  },
  {
   "attachments": {},
   "cell_type": "markdown",
   "id": "987e23cb",
   "metadata": {
    "papermill": {
     "duration": 0.02969,
     "end_time": "2024-04-10T10:53:32.409003",
     "exception": false,
     "start_time": "2024-04-10T10:53:32.379313",
     "status": "completed"
    },
    "tags": []
   },
   "source": [
    "## Quarter maximum and minimum"
   ]
  },
  {
   "cell_type": "code",
   "execution_count": null,
   "id": "8a03bdcf",
   "metadata": {
    "execution": {
     "iopub.execute_input": "2024-04-10T10:53:32.438606Z",
     "iopub.status.busy": "2024-04-10T10:53:32.438045Z",
     "iopub.status.idle": "2024-04-10T10:53:32.507745Z",
     "shell.execute_reply": "2024-04-10T10:53:32.503675Z"
    },
    "papermill": {
     "duration": 0.099753,
     "end_time": "2024-04-10T10:53:32.517936",
     "exception": false,
     "start_time": "2024-04-10T10:53:32.418183",
     "status": "completed"
    },
    "tags": []
   },
   "outputs": [
    {
     "data": {
      "text/html": [
       "<div>\n",
       "<style scoped>\n",
       "    .dataframe tbody tr th:only-of-type {\n",
       "        vertical-align: middle;\n",
       "    }\n",
       "\n",
       "    .dataframe tbody tr th {\n",
       "        vertical-align: top;\n",
       "    }\n",
       "\n",
       "    .dataframe thead tr th {\n",
       "        text-align: left;\n",
       "    }\n",
       "\n",
       "    .dataframe thead tr:last-of-type th {\n",
       "        text-align: right;\n",
       "    }\n",
       "</style>\n",
       "<table border=\"1\" class=\"dataframe\">\n",
       "  <thead>\n",
       "    <tr>\n",
       "      <th></th>\n",
       "      <th colspan=\"2\" halign=\"left\">Close</th>\n",
       "    </tr>\n",
       "    <tr>\n",
       "      <th></th>\n",
       "      <th>min</th>\n",
       "      <th>max</th>\n",
       "    </tr>\n",
       "    <tr>\n",
       "      <th>Date</th>\n",
       "      <th></th>\n",
       "      <th></th>\n",
       "    </tr>\n",
       "  </thead>\n",
       "  <tbody>\n",
       "    <tr>\n",
       "      <th>2010-06-30</th>\n",
       "      <td>-0.251148</td>\n",
       "      <td>-0.251148</td>\n",
       "    </tr>\n",
       "    <tr>\n",
       "      <th>2010-09-30</th>\n",
       "      <td>-16.093748</td>\n",
       "      <td>10.506363</td>\n",
       "    </tr>\n",
       "    <tr>\n",
       "      <th>2010-12-31</th>\n",
       "      <td>-15.088087</td>\n",
       "      <td>19.204203</td>\n",
       "    </tr>\n",
       "    <tr>\n",
       "      <th>2011-03-31</th>\n",
       "      <td>-6.279230</td>\n",
       "      <td>17.039199</td>\n",
       "    </tr>\n",
       "    <tr>\n",
       "      <th>2011-06-30</th>\n",
       "      <td>-5.374914</td>\n",
       "      <td>8.458108</td>\n",
       "    </tr>\n",
       "    <tr>\n",
       "      <th>2011-09-30</th>\n",
       "      <td>-9.007339</td>\n",
       "      <td>6.213281</td>\n",
       "    </tr>\n",
       "    <tr>\n",
       "      <th>2011-12-31</th>\n",
       "      <td>-9.651947</td>\n",
       "      <td>13.061651</td>\n",
       "    </tr>\n",
       "    <tr>\n",
       "      <th>2012-03-31</th>\n",
       "      <td>-19.327435</td>\n",
       "      <td>16.717859</td>\n",
       "    </tr>\n",
       "    <tr>\n",
       "      <th>2012-06-30</th>\n",
       "      <td>-7.918978</td>\n",
       "      <td>9.647363</td>\n",
       "    </tr>\n",
       "    <tr>\n",
       "      <th>2012-09-30</th>\n",
       "      <td>-9.784733</td>\n",
       "      <td>7.074677</td>\n",
       "    </tr>\n",
       "    <tr>\n",
       "      <th>2012-12-31</th>\n",
       "      <td>-4.679518</td>\n",
       "      <td>8.921158</td>\n",
       "    </tr>\n",
       "    <tr>\n",
       "      <th>2013-03-31</th>\n",
       "      <td>-8.770096</td>\n",
       "      <td>6.047542</td>\n",
       "    </tr>\n",
       "    <tr>\n",
       "      <th>2013-06-30</th>\n",
       "      <td>-7.307174</td>\n",
       "      <td>24.395076</td>\n",
       "    </tr>\n",
       "    <tr>\n",
       "      <th>2013-09-30</th>\n",
       "      <td>-14.309290</td>\n",
       "      <td>14.341062</td>\n",
       "    </tr>\n",
       "    <tr>\n",
       "      <th>2013-12-31</th>\n",
       "      <td>-14.507091</td>\n",
       "      <td>16.533784</td>\n",
       "    </tr>\n",
       "    <tr>\n",
       "      <th>2014-03-31</th>\n",
       "      <td>-4.938635</td>\n",
       "      <td>15.738480</td>\n",
       "    </tr>\n",
       "    <tr>\n",
       "      <th>2014-06-30</th>\n",
       "      <td>-11.303698</td>\n",
       "      <td>8.812129</td>\n",
       "    </tr>\n",
       "    <tr>\n",
       "      <th>2014-09-30</th>\n",
       "      <td>-9.075930</td>\n",
       "      <td>5.346687</td>\n",
       "    </tr>\n",
       "    <tr>\n",
       "      <th>2014-12-31</th>\n",
       "      <td>-7.820713</td>\n",
       "      <td>9.518661</td>\n",
       "    </tr>\n",
       "    <tr>\n",
       "      <th>2015-03-31</th>\n",
       "      <td>-5.659734</td>\n",
       "      <td>3.720588</td>\n",
       "    </tr>\n",
       "    <tr>\n",
       "      <th>2015-06-30</th>\n",
       "      <td>-2.753284</td>\n",
       "      <td>6.335084</td>\n",
       "    </tr>\n",
       "    <tr>\n",
       "      <th>2015-09-30</th>\n",
       "      <td>-8.884613</td>\n",
       "      <td>8.072407</td>\n",
       "    </tr>\n",
       "    <tr>\n",
       "      <th>2015-12-31</th>\n",
       "      <td>-6.606755</td>\n",
       "      <td>11.173506</td>\n",
       "    </tr>\n",
       "    <tr>\n",
       "      <th>2016-03-31</th>\n",
       "      <td>-8.985240</td>\n",
       "      <td>8.706566</td>\n",
       "    </tr>\n",
       "    <tr>\n",
       "      <th>2016-06-30</th>\n",
       "      <td>-10.450342</td>\n",
       "      <td>5.283668</td>\n",
       "    </tr>\n",
       "    <tr>\n",
       "      <th>2016-09-30</th>\n",
       "      <td>-5.301630</td>\n",
       "      <td>3.690381</td>\n",
       "    </tr>\n",
       "    <tr>\n",
       "      <th>2016-12-31</th>\n",
       "      <td>-3.970440</td>\n",
       "      <td>4.739499</td>\n",
       "    </tr>\n",
       "    <tr>\n",
       "      <th>2017-03-31</th>\n",
       "      <td>-6.405612</td>\n",
       "      <td>4.805628</td>\n",
       "    </tr>\n",
       "    <tr>\n",
       "      <th>2017-06-30</th>\n",
       "      <td>-5.002899</td>\n",
       "      <td>7.265539</td>\n",
       "    </tr>\n",
       "    <tr>\n",
       "      <th>2017-09-30</th>\n",
       "      <td>-7.240087</td>\n",
       "      <td>6.505265</td>\n",
       "    </tr>\n",
       "    <tr>\n",
       "      <th>2017-12-31</th>\n",
       "      <td>-6.795812</td>\n",
       "      <td>4.372799</td>\n",
       "    </tr>\n",
       "    <tr>\n",
       "      <th>2018-03-31</th>\n",
       "      <td>-8.628986</td>\n",
       "      <td>6.263822</td>\n",
       "    </tr>\n",
       "    <tr>\n",
       "      <th>2018-06-30</th>\n",
       "      <td>-5.545416</td>\n",
       "      <td>9.744784</td>\n",
       "    </tr>\n",
       "    <tr>\n",
       "      <th>2018-09-30</th>\n",
       "      <td>-13.901537</td>\n",
       "      <td>16.188013</td>\n",
       "    </tr>\n",
       "    <tr>\n",
       "      <th>2018-12-31</th>\n",
       "      <td>-7.624232</td>\n",
       "      <td>17.347133</td>\n",
       "    </tr>\n",
       "    <tr>\n",
       "      <th>2019-03-31</th>\n",
       "      <td>-12.971116</td>\n",
       "      <td>5.769739</td>\n",
       "    </tr>\n",
       "    <tr>\n",
       "      <th>2019-06-30</th>\n",
       "      <td>-8.234816</td>\n",
       "      <td>8.174562</td>\n",
       "    </tr>\n",
       "    <tr>\n",
       "      <th>2019-09-30</th>\n",
       "      <td>-13.613708</td>\n",
       "      <td>6.060346</td>\n",
       "    </tr>\n",
       "    <tr>\n",
       "      <th>2019-12-31</th>\n",
       "      <td>-6.140963</td>\n",
       "      <td>17.669232</td>\n",
       "    </tr>\n",
       "    <tr>\n",
       "      <th>2020-03-31</th>\n",
       "      <td>-18.577806</td>\n",
       "      <td>19.894859</td>\n",
       "    </tr>\n",
       "    <tr>\n",
       "      <th>2020-06-30</th>\n",
       "      <td>-10.303371</td>\n",
       "      <td>13.603839</td>\n",
       "    </tr>\n",
       "    <tr>\n",
       "      <th>2020-09-30</th>\n",
       "      <td>-21.062824</td>\n",
       "      <td>13.479394</td>\n",
       "    </tr>\n",
       "    <tr>\n",
       "      <th>2020-12-31</th>\n",
       "      <td>-7.379069</td>\n",
       "      <td>10.196776</td>\n",
       "    </tr>\n",
       "    <tr>\n",
       "      <th>2021-03-31</th>\n",
       "      <td>-8.549846</td>\n",
       "      <td>19.641208</td>\n",
       "    </tr>\n",
       "    <tr>\n",
       "      <th>2021-06-30</th>\n",
       "      <td>-6.444373</td>\n",
       "      <td>8.595690</td>\n",
       "    </tr>\n",
       "    <tr>\n",
       "      <th>2021-09-30</th>\n",
       "      <td>-4.322550</td>\n",
       "      <td>4.694119</td>\n",
       "    </tr>\n",
       "    <tr>\n",
       "      <th>2021-12-31</th>\n",
       "      <td>-11.990303</td>\n",
       "      <td>12.661598</td>\n",
       "    </tr>\n",
       "    <tr>\n",
       "      <th>2022-03-31</th>\n",
       "      <td>-11.554176</td>\n",
       "      <td>13.531668</td>\n",
       "    </tr>\n",
       "    <tr>\n",
       "      <th>2022-06-30</th>\n",
       "      <td>-12.184122</td>\n",
       "      <td>9.354435</td>\n",
       "    </tr>\n",
       "    <tr>\n",
       "      <th>2022-09-30</th>\n",
       "      <td>-6.810050</td>\n",
       "      <td>9.780471</td>\n",
       "    </tr>\n",
       "    <tr>\n",
       "      <th>2022-12-31</th>\n",
       "      <td>-11.408853</td>\n",
       "      <td>8.082691</td>\n",
       "    </tr>\n",
       "    <tr>\n",
       "      <th>2023-03-31</th>\n",
       "      <td>-12.242249</td>\n",
       "      <td>11.000180</td>\n",
       "    </tr>\n",
       "    <tr>\n",
       "      <th>2023-06-30</th>\n",
       "      <td>-9.745828</td>\n",
       "      <td>5.496278</td>\n",
       "    </tr>\n",
       "    <tr>\n",
       "      <th>2023-09-30</th>\n",
       "      <td>-9.737010</td>\n",
       "      <td>10.092550</td>\n",
       "    </tr>\n",
       "    <tr>\n",
       "      <th>2023-12-31</th>\n",
       "      <td>-9.300310</td>\n",
       "      <td>6.248172</td>\n",
       "    </tr>\n",
       "    <tr>\n",
       "      <th>2024-03-31</th>\n",
       "      <td>-12.125293</td>\n",
       "      <td>6.254200</td>\n",
       "    </tr>\n",
       "    <tr>\n",
       "      <th>2024-06-30</th>\n",
       "      <td>-0.324246</td>\n",
       "      <td>-0.324246</td>\n",
       "    </tr>\n",
       "  </tbody>\n",
       "</table>\n",
       "</div>"
      ],
      "text/plain": [
       "                Close           \n",
       "                  min        max\n",
       "Date                            \n",
       "2010-06-30  -0.251148  -0.251148\n",
       "2010-09-30 -16.093748  10.506363\n",
       "2010-12-31 -15.088087  19.204203\n",
       "2011-03-31  -6.279230  17.039199\n",
       "2011-06-30  -5.374914   8.458108\n",
       "2011-09-30  -9.007339   6.213281\n",
       "2011-12-31  -9.651947  13.061651\n",
       "2012-03-31 -19.327435  16.717859\n",
       "2012-06-30  -7.918978   9.647363\n",
       "2012-09-30  -9.784733   7.074677\n",
       "2012-12-31  -4.679518   8.921158\n",
       "2013-03-31  -8.770096   6.047542\n",
       "2013-06-30  -7.307174  24.395076\n",
       "2013-09-30 -14.309290  14.341062\n",
       "2013-12-31 -14.507091  16.533784\n",
       "2014-03-31  -4.938635  15.738480\n",
       "2014-06-30 -11.303698   8.812129\n",
       "2014-09-30  -9.075930   5.346687\n",
       "2014-12-31  -7.820713   9.518661\n",
       "2015-03-31  -5.659734   3.720588\n",
       "2015-06-30  -2.753284   6.335084\n",
       "2015-09-30  -8.884613   8.072407\n",
       "2015-12-31  -6.606755  11.173506\n",
       "2016-03-31  -8.985240   8.706566\n",
       "2016-06-30 -10.450342   5.283668\n",
       "2016-09-30  -5.301630   3.690381\n",
       "2016-12-31  -3.970440   4.739499\n",
       "2017-03-31  -6.405612   4.805628\n",
       "2017-06-30  -5.002899   7.265539\n",
       "2017-09-30  -7.240087   6.505265\n",
       "2017-12-31  -6.795812   4.372799\n",
       "2018-03-31  -8.628986   6.263822\n",
       "2018-06-30  -5.545416   9.744784\n",
       "2018-09-30 -13.901537  16.188013\n",
       "2018-12-31  -7.624232  17.347133\n",
       "2019-03-31 -12.971116   5.769739\n",
       "2019-06-30  -8.234816   8.174562\n",
       "2019-09-30 -13.613708   6.060346\n",
       "2019-12-31  -6.140963  17.669232\n",
       "2020-03-31 -18.577806  19.894859\n",
       "2020-06-30 -10.303371  13.603839\n",
       "2020-09-30 -21.062824  13.479394\n",
       "2020-12-31  -7.379069  10.196776\n",
       "2021-03-31  -8.549846  19.641208\n",
       "2021-06-30  -6.444373   8.595690\n",
       "2021-09-30  -4.322550   4.694119\n",
       "2021-12-31 -11.990303  12.661598\n",
       "2022-03-31 -11.554176  13.531668\n",
       "2022-06-30 -12.184122   9.354435\n",
       "2022-09-30  -6.810050   9.780471\n",
       "2022-12-31 -11.408853   8.082691\n",
       "2023-03-31 -12.242249  11.000180\n",
       "2023-06-30  -9.745828   5.496278\n",
       "2023-09-30  -9.737010  10.092550\n",
       "2023-12-31  -9.300310   6.248172\n",
       "2024-03-31 -12.125293   6.254200\n",
       "2024-06-30  -0.324246  -0.324246"
      ]
     },
     "execution_count": null,
     "metadata": {},
     "output_type": "execute_result"
    }
   ],
   "source": []
  },
  {
   "cell_type": "code",
   "execution_count": null,
   "id": "d14957d2",
   "metadata": {
    "execution": {
     "iopub.execute_input": "2024-04-10T10:53:32.579822Z",
     "iopub.status.busy": "2024-04-10T10:53:32.577931Z",
     "iopub.status.idle": "2024-04-10T10:53:32.882223Z",
     "shell.execute_reply": "2024-04-10T10:53:32.880628Z"
    },
    "papermill": {
     "duration": 0.338423,
     "end_time": "2024-04-10T10:53:32.885590",
     "exception": false,
     "start_time": "2024-04-10T10:53:32.547167",
     "status": "completed"
    },
    "tags": []
   },
   "outputs": [
    {
     "data": {
      "image/png": "[encoded data removed]",
      "text/plain": [
       "<Figure size 640x480 with 1 Axes>"
      ]
     },
     "execution_count": null,
     "metadata": {},
     "output_type": "display_data"
    }
   ],
   "source": []
  },
  {
   "cell_type": "markdown",
   "id": "5222ffe8",
   "metadata": {},
   "source": [
    "## Real life applications\n",
    "\n",
    "### Stock market data\n",
    "\n",
    "[Reporting annual cumulative returns on multiple assets in Python](https://datons.ai/processing-annual-financial-reports-on-multiple-assets-in-python/)"
   ]
  }
 ],
 "metadata": {
  "kernelspec": {
   "display_name": "work",
   "language": "python",
   "name": "python3"
  },
  "language_info": {
   "codemirror_mode": {
    "name": "ipython",
    "version": 3
   },
   "file_extension": ".py",
   "mimetype": "text/x-python",
   "name": "python",
   "nbconvert_exporter": "python",
   "pygments_lexer": "ipython3",
   "version": "3.12.0"
  },
  "papermill": {
   "default_parameters": {},
   "duration": 4.610813,
   "end_time": "2024-04-10T10:53:33.322388",
   "environment_variables": {},
   "exception": null,
   "input_path": "/Users/sota/Dropbox/2 Business/2 Areas/datons.academy/2 Areas/Products/Digital Courses/DAV/course-maven/solutions/notebooks/40_Data Operations/43_Temporal Resampling/B.ipynb",
   "output_path": "/Users/sota/Dropbox/2 Business/2 Areas/datons.academy/2 Areas/Products/Digital Courses/DAV/course-maven/solutions/notebooks/40_Data Operations/43_Temporal Resampling/B.ipynb",
   "parameters": {},
   "start_time": "2024-04-10T10:53:28.711575",
   "version": "2.5.0"
  }
 },
 "nbformat": 4,
 "nbformat_minor": 5
}
