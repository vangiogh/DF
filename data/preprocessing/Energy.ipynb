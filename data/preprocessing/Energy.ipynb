{
 "cells": [
  {
   "cell_type": "code",
   "execution_count": 1,
   "metadata": {},
   "outputs": [],
   "source": [
    "import pandas as pd"
   ]
  },
  {
   "cell_type": "code",
   "execution_count": 2,
   "metadata": {},
   "outputs": [],
   "source": [
    "df = pd.read_csv('../raw/energy_spain_years_ts.csv')"
   ]
  },
  {
   "cell_type": "code",
   "execution_count": 6,
   "metadata": {},
   "outputs": [],
   "source": [
    "df.index = pd.to_datetime(df[['year', 'month', 'day', 'hour']])"
   ]
  },
  {
   "cell_type": "code",
   "execution_count": 8,
   "metadata": {},
   "outputs": [],
   "source": [
    "df.index = pd.to_datetime(df.index)"
   ]
  },
  {
   "cell_type": "code",
   "execution_count": 10,
   "metadata": {},
   "outputs": [],
   "source": [
    "df.to_parquet('../raw/energy_spain_years_ts.parquet')"
   ]
  },
  {
   "cell_type": "code",
   "execution_count": 12,
   "metadata": {},
   "outputs": [
    {
     "data": {
      "text/html": [
       "<div>\n",
       "<style scoped>\n",
       "    .dataframe tbody tr th:only-of-type {\n",
       "        vertical-align: middle;\n",
       "    }\n",
       "\n",
       "    .dataframe tbody tr th {\n",
       "        vertical-align: top;\n",
       "    }\n",
       "\n",
       "    .dataframe thead th {\n",
       "        text-align: right;\n",
       "    }\n",
       "</style>\n",
       "<table border=\"1\" class=\"dataframe\">\n",
       "  <thead>\n",
       "    <tr style=\"text-align: right;\">\n",
       "      <th></th>\n",
       "      <th>technology</th>\n",
       "      <th>year</th>\n",
       "      <th>month</th>\n",
       "      <th>day</th>\n",
       "      <th>hour</th>\n",
       "      <th>generation_mwh</th>\n",
       "    </tr>\n",
       "  </thead>\n",
       "  <tbody>\n",
       "    <tr>\n",
       "      <th>2019-01-01</th>\n",
       "      <td>CarbonCombined CycleCogenerationTotal ExportsE...</td>\n",
       "      <td>775296</td>\n",
       "      <td>384</td>\n",
       "      <td>384</td>\n",
       "      <td>4416</td>\n",
       "      <td>563670.9</td>\n",
       "    </tr>\n",
       "    <tr>\n",
       "      <th>2019-01-02</th>\n",
       "      <td>CarbonCombined CycleCogenerationTotal ExportsE...</td>\n",
       "      <td>775296</td>\n",
       "      <td>384</td>\n",
       "      <td>768</td>\n",
       "      <td>4416</td>\n",
       "      <td>718438.0</td>\n",
       "    </tr>\n",
       "    <tr>\n",
       "      <th>...</th>\n",
       "      <td>...</td>\n",
       "      <td>...</td>\n",
       "      <td>...</td>\n",
       "      <td>...</td>\n",
       "      <td>...</td>\n",
       "      <td>...</td>\n",
       "    </tr>\n",
       "    <tr>\n",
       "      <th>2021-12-30</th>\n",
       "      <td>CarbonCombined CycleCogenerationTotal ExportsE...</td>\n",
       "      <td>776064</td>\n",
       "      <td>4608</td>\n",
       "      <td>11520</td>\n",
       "      <td>4416</td>\n",
       "      <td>650621.0</td>\n",
       "    </tr>\n",
       "    <tr>\n",
       "      <th>2021-12-31</th>\n",
       "      <td>CarbonCombined CycleCogenerationTotal ExportsE...</td>\n",
       "      <td>776064</td>\n",
       "      <td>4608</td>\n",
       "      <td>11904</td>\n",
       "      <td>4416</td>\n",
       "      <td>611439.2</td>\n",
       "    </tr>\n",
       "  </tbody>\n",
       "</table>\n",
       "<p>1096 rows × 6 columns</p>\n",
       "</div>"
      ],
      "text/plain": [
       "                                                   technology    year  month  \\\n",
       "2019-01-01  CarbonCombined CycleCogenerationTotal ExportsE...  775296    384   \n",
       "2019-01-02  CarbonCombined CycleCogenerationTotal ExportsE...  775296    384   \n",
       "...                                                       ...     ...    ...   \n",
       "2021-12-30  CarbonCombined CycleCogenerationTotal ExportsE...  776064   4608   \n",
       "2021-12-31  CarbonCombined CycleCogenerationTotal ExportsE...  776064   4608   \n",
       "\n",
       "              day  hour  generation_mwh  \n",
       "2019-01-01    384  4416        563670.9  \n",
       "2019-01-02    768  4416        718438.0  \n",
       "...           ...   ...             ...  \n",
       "2021-12-30  11520  4416        650621.0  \n",
       "2021-12-31  11904  4416        611439.2  \n",
       "\n",
       "[1096 rows x 6 columns]"
      ]
     },
     "execution_count": 12,
     "metadata": {},
     "output_type": "execute_result"
    }
   ],
   "source": [
    "pd.read_parquet('../raw/energy_spain_years_ts.parquet').resample('D').sum()"
   ]
  }
 ],
 "metadata": {
  "kernelspec": {
   "display_name": "work",
   "language": "python",
   "name": "python3"
  },
  "language_info": {
   "codemirror_mode": {
    "name": "ipython",
    "version": 3
   },
   "file_extension": ".py",
   "mimetype": "text/x-python",
   "name": "python",
   "nbconvert_exporter": "python",
   "pygments_lexer": "ipython3",
   "version": "3.12.2"
  }
 },
 "nbformat": 4,
 "nbformat_minor": 2
}
